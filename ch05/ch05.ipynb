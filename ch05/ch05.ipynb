{
  "cells": [
    {
      "cell_type": "markdown",
      "metadata": {
        "id": "3NwHunx5EjGp"
      },
      "source": [
        "# 5장 - 차원 축소를 사용한 데이터 압축"
      ]
    },
    {
      "cell_type": "markdown",
      "metadata": {
        "id": "1_84RVKeEjGl"
      },
      "source": [
        "# 머신 러닝 교과서 3판"
      ]
    },
    {
      "cell_type": "markdown",
      "metadata": {
        "id": "vUWZwyuKEjGp"
      },
      "source": [
        "**아래 링크를 통해 이 노트북을 주피터 노트북 뷰어(nbviewer.jupyter.org)로 보거나 구글 코랩(colab.research.google.com)에서 실행할 수 있습니다.**\n",
        "\n",
        "<table class=\"tfo-notebook-buttons\" align=\"left\">\n",
        "  <td>\n",
        "    <a target=\"_blank\" href=\"https://nbviewer.org/github/rickiepark/python-machine-learning-book-3rd-edition/blob/master/ch05/ch05.ipynb\"><img src=\"https://jupyter.org/assets/share.png\" width=\"60\" />주피터 노트북 뷰어로 보기</a>\n",
        "  </td>\n",
        "  <td>\n",
        "    <a target=\"_blank\" href=\"https://colab.research.google.com/github/rickiepark/python-machine-learning-book-3rd-edition/blob/master/ch05/ch05.ipynb\"><img src=\"https://www.tensorflow.org/images/colab_logo_32px.png\" />구글 코랩(Colab)에서 실행하기</a>\n",
        "  </td>\n",
        "</table>"
      ]
    },
    {
      "cell_type": "markdown",
      "metadata": {
        "id": "BKL9EjK2EjGq"
      },
      "source": [
        "### 목차"
      ]
    },
    {
      "cell_type": "markdown",
      "metadata": {
        "id": "zgkdYleMEjGq"
      },
      "source": [
        "- 주성분 분석을 통한 비지도 차원 축소\n",
        "  - 주성분 분석의 주요 단계\n",
        "  - 주성분 추출 단계\n",
        "  - 총분산과 설명된 분산\n",
        "  - 특성 변환\n",
        "  - 사이킷런의 주성분 분석\n",
        "- 선형 판별 분석을 통한 지도 방식의 데이터 압축\n",
        "  - 주성분 분석 vs 선형 판별 분석\n",
        "  - 선형 판별 분석의 내부 동작 방식\n",
        "  - 산포 행렬 계산\n",
        "  - 새로운 특성 부분 공간을 위해 선형 판별 벡터 선택\n",
        "  - 새로운 특성 공간으로 샘플 투영\n",
        "  - 사이킷런의 LDA\n",
        "- 커널 PCA를 사용하여 비선형 매핑\n",
        "  - 커널 함수와 커널 트릭\n",
        "  - 파이썬으로 커널 PCA 구현\n",
        "    - 예제 1 - 반달 모양 구분하기\n",
        "    - 예제 2 - 동심원 분리하기\n",
        "  - 새로운 데이터 포인트 투영\n",
        "  - 사이킷런의 커널 PCA\n",
        "- 요약"
      ]
    },
    {
      "cell_type": "markdown",
      "metadata": {
        "id": "zdfxyBijEjGq"
      },
      "source": [
        "<br>"
      ]
    },
    {
      "cell_type": "code",
      "execution_count": 1,
      "metadata": {
        "execution": {
          "iopub.execute_input": "2021-10-23T05:55:28.820829Z",
          "iopub.status.busy": "2021-10-23T05:55:28.819949Z",
          "iopub.status.idle": "2021-10-23T05:55:28.823060Z",
          "shell.execute_reply": "2021-10-23T05:55:28.822150Z"
        },
        "id": "nSf82FR-EjGr"
      },
      "outputs": [],
      "source": [
        "from IPython.display import Image"
      ]
    },
    {
      "cell_type": "markdown",
      "metadata": {
        "id": "8_p4a2DdEjGr"
      },
      "source": [
        "# 5.1 주성분 분석을 통한 비지도 차원 축소"
      ]
    },
    {
      "cell_type": "markdown",
      "metadata": {
        "id": "aMwZJrGQEjGr"
      },
      "source": [
        "## 5.1.1 주성분 분석의 주요 단계"
      ]
    },
    {
      "cell_type": "code",
      "execution_count": 2,
      "metadata": {
        "colab": {
          "base_uri": "https://localhost:8080/",
          "height": 385
        },
        "execution": {
          "iopub.execute_input": "2021-10-23T05:55:28.835839Z",
          "iopub.status.busy": "2021-10-23T05:55:28.834819Z",
          "iopub.status.idle": "2021-10-23T05:55:28.839717Z",
          "shell.execute_reply": "2021-10-23T05:55:28.838955Z"
        },
        "id": "MiqBHvISEjGr",
        "outputId": "cd2f2195-e448-4ed8-a47f-faa455ee338c"
      },
      "outputs": [
        {
          "output_type": "execute_result",
          "data": {
            "text/html": [
              "<img src=\"https://git.io/JtsvW\" width=\"400\"/>"
            ],
            "text/plain": [
              "<IPython.core.display.Image object>"
            ]
          },
          "metadata": {},
          "execution_count": 2
        }
      ],
      "source": [
        "Image(url='https://git.io/JtsvW', width=400)"
      ]
    },
    {
      "cell_type": "markdown",
      "metadata": {
        "id": "QNt8vZP229rW"
      },
      "source": [
        "$\\boldsymbol{x}\\boldsymbol{W}=\\boldsymbol{z}$"
      ]
    },
    {
      "cell_type": "markdown",
      "metadata": {
        "id": "ZT7XQlR5EjGs"
      },
      "source": [
        "## 5.1.2 주성분 추출 단계"
      ]
    },
    {
      "cell_type": "code",
      "execution_count": 3,
      "metadata": {
        "colab": {
          "base_uri": "https://localhost:8080/",
          "height": 223
        },
        "execution": {
          "iopub.execute_input": "2021-10-23T05:55:28.847062Z",
          "iopub.status.busy": "2021-10-23T05:55:28.846167Z",
          "iopub.status.idle": "2021-10-23T05:55:29.762319Z",
          "shell.execute_reply": "2021-10-23T05:55:29.761696Z"
        },
        "id": "Fod9IR5ZEjGs",
        "outputId": "ea5dec68-eb02-4f0b-cab7-e2c1553cca18"
      },
      "outputs": [
        {
          "output_type": "execute_result",
          "data": {
            "text/plain": [
              "   Class label  Alcohol  Malic acid   Ash  Alcalinity of ash  Magnesium  \\\n",
              "0            1    14.23        1.71  2.43               15.6        127   \n",
              "1            1    13.20        1.78  2.14               11.2        100   \n",
              "2            1    13.16        2.36  2.67               18.6        101   \n",
              "3            1    14.37        1.95  2.50               16.8        113   \n",
              "4            1    13.24        2.59  2.87               21.0        118   \n",
              "\n",
              "   Total phenols  Flavanoids  Nonflavanoid phenols  Proanthocyanins  \\\n",
              "0           2.80        3.06                  0.28             2.29   \n",
              "1           2.65        2.76                  0.26             1.28   \n",
              "2           2.80        3.24                  0.30             2.81   \n",
              "3           3.85        3.49                  0.24             2.18   \n",
              "4           2.80        2.69                  0.39             1.82   \n",
              "\n",
              "   Color intensity   Hue  OD280/OD315 of diluted wines  Proline  \n",
              "0             5.64  1.04                          3.92     1065  \n",
              "1             4.38  1.05                          3.40     1050  \n",
              "2             5.68  1.03                          3.17     1185  \n",
              "3             7.80  0.86                          3.45     1480  \n",
              "4             4.32  1.04                          2.93      735  "
            ],
            "text/html": [
              "\n",
              "  <div id=\"df-b6be5829-181f-42ce-897d-e84eea5fa896\" class=\"colab-df-container\">\n",
              "    <div>\n",
              "<style scoped>\n",
              "    .dataframe tbody tr th:only-of-type {\n",
              "        vertical-align: middle;\n",
              "    }\n",
              "\n",
              "    .dataframe tbody tr th {\n",
              "        vertical-align: top;\n",
              "    }\n",
              "\n",
              "    .dataframe thead th {\n",
              "        text-align: right;\n",
              "    }\n",
              "</style>\n",
              "<table border=\"1\" class=\"dataframe\">\n",
              "  <thead>\n",
              "    <tr style=\"text-align: right;\">\n",
              "      <th></th>\n",
              "      <th>Class label</th>\n",
              "      <th>Alcohol</th>\n",
              "      <th>Malic acid</th>\n",
              "      <th>Ash</th>\n",
              "      <th>Alcalinity of ash</th>\n",
              "      <th>Magnesium</th>\n",
              "      <th>Total phenols</th>\n",
              "      <th>Flavanoids</th>\n",
              "      <th>Nonflavanoid phenols</th>\n",
              "      <th>Proanthocyanins</th>\n",
              "      <th>Color intensity</th>\n",
              "      <th>Hue</th>\n",
              "      <th>OD280/OD315 of diluted wines</th>\n",
              "      <th>Proline</th>\n",
              "    </tr>\n",
              "  </thead>\n",
              "  <tbody>\n",
              "    <tr>\n",
              "      <th>0</th>\n",
              "      <td>1</td>\n",
              "      <td>14.23</td>\n",
              "      <td>1.71</td>\n",
              "      <td>2.43</td>\n",
              "      <td>15.6</td>\n",
              "      <td>127</td>\n",
              "      <td>2.80</td>\n",
              "      <td>3.06</td>\n",
              "      <td>0.28</td>\n",
              "      <td>2.29</td>\n",
              "      <td>5.64</td>\n",
              "      <td>1.04</td>\n",
              "      <td>3.92</td>\n",
              "      <td>1065</td>\n",
              "    </tr>\n",
              "    <tr>\n",
              "      <th>1</th>\n",
              "      <td>1</td>\n",
              "      <td>13.20</td>\n",
              "      <td>1.78</td>\n",
              "      <td>2.14</td>\n",
              "      <td>11.2</td>\n",
              "      <td>100</td>\n",
              "      <td>2.65</td>\n",
              "      <td>2.76</td>\n",
              "      <td>0.26</td>\n",
              "      <td>1.28</td>\n",
              "      <td>4.38</td>\n",
              "      <td>1.05</td>\n",
              "      <td>3.40</td>\n",
              "      <td>1050</td>\n",
              "    </tr>\n",
              "    <tr>\n",
              "      <th>2</th>\n",
              "      <td>1</td>\n",
              "      <td>13.16</td>\n",
              "      <td>2.36</td>\n",
              "      <td>2.67</td>\n",
              "      <td>18.6</td>\n",
              "      <td>101</td>\n",
              "      <td>2.80</td>\n",
              "      <td>3.24</td>\n",
              "      <td>0.30</td>\n",
              "      <td>2.81</td>\n",
              "      <td>5.68</td>\n",
              "      <td>1.03</td>\n",
              "      <td>3.17</td>\n",
              "      <td>1185</td>\n",
              "    </tr>\n",
              "    <tr>\n",
              "      <th>3</th>\n",
              "      <td>1</td>\n",
              "      <td>14.37</td>\n",
              "      <td>1.95</td>\n",
              "      <td>2.50</td>\n",
              "      <td>16.8</td>\n",
              "      <td>113</td>\n",
              "      <td>3.85</td>\n",
              "      <td>3.49</td>\n",
              "      <td>0.24</td>\n",
              "      <td>2.18</td>\n",
              "      <td>7.80</td>\n",
              "      <td>0.86</td>\n",
              "      <td>3.45</td>\n",
              "      <td>1480</td>\n",
              "    </tr>\n",
              "    <tr>\n",
              "      <th>4</th>\n",
              "      <td>1</td>\n",
              "      <td>13.24</td>\n",
              "      <td>2.59</td>\n",
              "      <td>2.87</td>\n",
              "      <td>21.0</td>\n",
              "      <td>118</td>\n",
              "      <td>2.80</td>\n",
              "      <td>2.69</td>\n",
              "      <td>0.39</td>\n",
              "      <td>1.82</td>\n",
              "      <td>4.32</td>\n",
              "      <td>1.04</td>\n",
              "      <td>2.93</td>\n",
              "      <td>735</td>\n",
              "    </tr>\n",
              "  </tbody>\n",
              "</table>\n",
              "</div>\n",
              "    <div class=\"colab-df-buttons\">\n",
              "\n",
              "  <div class=\"colab-df-container\">\n",
              "    <button class=\"colab-df-convert\" onclick=\"convertToInteractive('df-b6be5829-181f-42ce-897d-e84eea5fa896')\"\n",
              "            title=\"Convert this dataframe to an interactive table.\"\n",
              "            style=\"display:none;\">\n",
              "\n",
              "  <svg xmlns=\"http://www.w3.org/2000/svg\" height=\"24px\" viewBox=\"0 -960 960 960\">\n",
              "    <path d=\"M120-120v-720h720v720H120Zm60-500h600v-160H180v160Zm220 220h160v-160H400v160Zm0 220h160v-160H400v160ZM180-400h160v-160H180v160Zm440 0h160v-160H620v160ZM180-180h160v-160H180v160Zm440 0h160v-160H620v160Z\"/>\n",
              "  </svg>\n",
              "    </button>\n",
              "\n",
              "  <style>\n",
              "    .colab-df-container {\n",
              "      display:flex;\n",
              "      gap: 12px;\n",
              "    }\n",
              "\n",
              "    .colab-df-convert {\n",
              "      background-color: #E8F0FE;\n",
              "      border: none;\n",
              "      border-radius: 50%;\n",
              "      cursor: pointer;\n",
              "      display: none;\n",
              "      fill: #1967D2;\n",
              "      height: 32px;\n",
              "      padding: 0 0 0 0;\n",
              "      width: 32px;\n",
              "    }\n",
              "\n",
              "    .colab-df-convert:hover {\n",
              "      background-color: #E2EBFA;\n",
              "      box-shadow: 0px 1px 2px rgba(60, 64, 67, 0.3), 0px 1px 3px 1px rgba(60, 64, 67, 0.15);\n",
              "      fill: #174EA6;\n",
              "    }\n",
              "\n",
              "    .colab-df-buttons div {\n",
              "      margin-bottom: 4px;\n",
              "    }\n",
              "\n",
              "    [theme=dark] .colab-df-convert {\n",
              "      background-color: #3B4455;\n",
              "      fill: #D2E3FC;\n",
              "    }\n",
              "\n",
              "    [theme=dark] .colab-df-convert:hover {\n",
              "      background-color: #434B5C;\n",
              "      box-shadow: 0px 1px 3px 1px rgba(0, 0, 0, 0.15);\n",
              "      filter: drop-shadow(0px 1px 2px rgba(0, 0, 0, 0.3));\n",
              "      fill: #FFFFFF;\n",
              "    }\n",
              "  </style>\n",
              "\n",
              "    <script>\n",
              "      const buttonEl =\n",
              "        document.querySelector('#df-b6be5829-181f-42ce-897d-e84eea5fa896 button.colab-df-convert');\n",
              "      buttonEl.style.display =\n",
              "        google.colab.kernel.accessAllowed ? 'block' : 'none';\n",
              "\n",
              "      async function convertToInteractive(key) {\n",
              "        const element = document.querySelector('#df-b6be5829-181f-42ce-897d-e84eea5fa896');\n",
              "        const dataTable =\n",
              "          await google.colab.kernel.invokeFunction('convertToInteractive',\n",
              "                                                    [key], {});\n",
              "        if (!dataTable) return;\n",
              "\n",
              "        const docLinkHtml = 'Like what you see? Visit the ' +\n",
              "          '<a target=\"_blank\" href=https://colab.research.google.com/notebooks/data_table.ipynb>data table notebook</a>'\n",
              "          + ' to learn more about interactive tables.';\n",
              "        element.innerHTML = '';\n",
              "        dataTable['output_type'] = 'display_data';\n",
              "        await google.colab.output.renderOutput(dataTable, element);\n",
              "        const docLink = document.createElement('div');\n",
              "        docLink.innerHTML = docLinkHtml;\n",
              "        element.appendChild(docLink);\n",
              "      }\n",
              "    </script>\n",
              "  </div>\n",
              "\n",
              "\n",
              "    <div id=\"df-1a28eb57-b590-4edc-8dba-6bae5d48d619\">\n",
              "      <button class=\"colab-df-quickchart\" onclick=\"quickchart('df-1a28eb57-b590-4edc-8dba-6bae5d48d619')\"\n",
              "                title=\"Suggest charts\"\n",
              "                style=\"display:none;\">\n",
              "\n",
              "<svg xmlns=\"http://www.w3.org/2000/svg\" height=\"24px\"viewBox=\"0 0 24 24\"\n",
              "     width=\"24px\">\n",
              "    <g>\n",
              "        <path d=\"M19 3H5c-1.1 0-2 .9-2 2v14c0 1.1.9 2 2 2h14c1.1 0 2-.9 2-2V5c0-1.1-.9-2-2-2zM9 17H7v-7h2v7zm4 0h-2V7h2v10zm4 0h-2v-4h2v4z\"/>\n",
              "    </g>\n",
              "</svg>\n",
              "      </button>\n",
              "\n",
              "<style>\n",
              "  .colab-df-quickchart {\n",
              "      --bg-color: #E8F0FE;\n",
              "      --fill-color: #1967D2;\n",
              "      --hover-bg-color: #E2EBFA;\n",
              "      --hover-fill-color: #174EA6;\n",
              "      --disabled-fill-color: #AAA;\n",
              "      --disabled-bg-color: #DDD;\n",
              "  }\n",
              "\n",
              "  [theme=dark] .colab-df-quickchart {\n",
              "      --bg-color: #3B4455;\n",
              "      --fill-color: #D2E3FC;\n",
              "      --hover-bg-color: #434B5C;\n",
              "      --hover-fill-color: #FFFFFF;\n",
              "      --disabled-bg-color: #3B4455;\n",
              "      --disabled-fill-color: #666;\n",
              "  }\n",
              "\n",
              "  .colab-df-quickchart {\n",
              "    background-color: var(--bg-color);\n",
              "    border: none;\n",
              "    border-radius: 50%;\n",
              "    cursor: pointer;\n",
              "    display: none;\n",
              "    fill: var(--fill-color);\n",
              "    height: 32px;\n",
              "    padding: 0;\n",
              "    width: 32px;\n",
              "  }\n",
              "\n",
              "  .colab-df-quickchart:hover {\n",
              "    background-color: var(--hover-bg-color);\n",
              "    box-shadow: 0 1px 2px rgba(60, 64, 67, 0.3), 0 1px 3px 1px rgba(60, 64, 67, 0.15);\n",
              "    fill: var(--button-hover-fill-color);\n",
              "  }\n",
              "\n",
              "  .colab-df-quickchart-complete:disabled,\n",
              "  .colab-df-quickchart-complete:disabled:hover {\n",
              "    background-color: var(--disabled-bg-color);\n",
              "    fill: var(--disabled-fill-color);\n",
              "    box-shadow: none;\n",
              "  }\n",
              "\n",
              "  .colab-df-spinner {\n",
              "    border: 2px solid var(--fill-color);\n",
              "    border-color: transparent;\n",
              "    border-bottom-color: var(--fill-color);\n",
              "    animation:\n",
              "      spin 1s steps(1) infinite;\n",
              "  }\n",
              "\n",
              "  @keyframes spin {\n",
              "    0% {\n",
              "      border-color: transparent;\n",
              "      border-bottom-color: var(--fill-color);\n",
              "      border-left-color: var(--fill-color);\n",
              "    }\n",
              "    20% {\n",
              "      border-color: transparent;\n",
              "      border-left-color: var(--fill-color);\n",
              "      border-top-color: var(--fill-color);\n",
              "    }\n",
              "    30% {\n",
              "      border-color: transparent;\n",
              "      border-left-color: var(--fill-color);\n",
              "      border-top-color: var(--fill-color);\n",
              "      border-right-color: var(--fill-color);\n",
              "    }\n",
              "    40% {\n",
              "      border-color: transparent;\n",
              "      border-right-color: var(--fill-color);\n",
              "      border-top-color: var(--fill-color);\n",
              "    }\n",
              "    60% {\n",
              "      border-color: transparent;\n",
              "      border-right-color: var(--fill-color);\n",
              "    }\n",
              "    80% {\n",
              "      border-color: transparent;\n",
              "      border-right-color: var(--fill-color);\n",
              "      border-bottom-color: var(--fill-color);\n",
              "    }\n",
              "    90% {\n",
              "      border-color: transparent;\n",
              "      border-bottom-color: var(--fill-color);\n",
              "    }\n",
              "  }\n",
              "</style>\n",
              "\n",
              "      <script>\n",
              "        async function quickchart(key) {\n",
              "          const quickchartButtonEl =\n",
              "            document.querySelector('#' + key + ' button');\n",
              "          quickchartButtonEl.disabled = true;  // To prevent multiple clicks.\n",
              "          quickchartButtonEl.classList.add('colab-df-spinner');\n",
              "          try {\n",
              "            const charts = await google.colab.kernel.invokeFunction(\n",
              "                'suggestCharts', [key], {});\n",
              "          } catch (error) {\n",
              "            console.error('Error during call to suggestCharts:', error);\n",
              "          }\n",
              "          quickchartButtonEl.classList.remove('colab-df-spinner');\n",
              "          quickchartButtonEl.classList.add('colab-df-quickchart-complete');\n",
              "        }\n",
              "        (() => {\n",
              "          let quickchartButtonEl =\n",
              "            document.querySelector('#df-1a28eb57-b590-4edc-8dba-6bae5d48d619 button');\n",
              "          quickchartButtonEl.style.display =\n",
              "            google.colab.kernel.accessAllowed ? 'block' : 'none';\n",
              "        })();\n",
              "      </script>\n",
              "    </div>\n",
              "\n",
              "    </div>\n",
              "  </div>\n"
            ],
            "application/vnd.google.colaboratory.intrinsic+json": {
              "type": "dataframe",
              "variable_name": "df_wine",
              "summary": "{\n  \"name\": \"df_wine\",\n  \"rows\": 178,\n  \"fields\": [\n    {\n      \"column\": \"Class label\",\n      \"properties\": {\n        \"dtype\": \"number\",\n        \"std\": 0,\n        \"min\": 1,\n        \"max\": 3,\n        \"num_unique_values\": 3,\n        \"samples\": [\n          1,\n          2,\n          3\n        ],\n        \"semantic_type\": \"\",\n        \"description\": \"\"\n      }\n    },\n    {\n      \"column\": \"Alcohol\",\n      \"properties\": {\n        \"dtype\": \"number\",\n        \"std\": 0.8118265380058577,\n        \"min\": 11.03,\n        \"max\": 14.83,\n        \"num_unique_values\": 126,\n        \"samples\": [\n          11.62,\n          13.64,\n          13.69\n        ],\n        \"semantic_type\": \"\",\n        \"description\": \"\"\n      }\n    },\n    {\n      \"column\": \"Malic acid\",\n      \"properties\": {\n        \"dtype\": \"number\",\n        \"std\": 1.1171460976144627,\n        \"min\": 0.74,\n        \"max\": 5.8,\n        \"num_unique_values\": 133,\n        \"samples\": [\n          1.21,\n          2.83,\n          1.8\n        ],\n        \"semantic_type\": \"\",\n        \"description\": \"\"\n      }\n    },\n    {\n      \"column\": \"Ash\",\n      \"properties\": {\n        \"dtype\": \"number\",\n        \"std\": 0.2743440090608148,\n        \"min\": 1.36,\n        \"max\": 3.23,\n        \"num_unique_values\": 79,\n        \"samples\": [\n          2.31,\n          2.43,\n          2.52\n        ],\n        \"semantic_type\": \"\",\n        \"description\": \"\"\n      }\n    },\n    {\n      \"column\": \"Alcalinity of ash\",\n      \"properties\": {\n        \"dtype\": \"number\",\n        \"std\": 3.3395637671735052,\n        \"min\": 10.6,\n        \"max\": 30.0,\n        \"num_unique_values\": 63,\n        \"samples\": [\n          25.5,\n          28.5,\n          15.6\n        ],\n        \"semantic_type\": \"\",\n        \"description\": \"\"\n      }\n    },\n    {\n      \"column\": \"Magnesium\",\n      \"properties\": {\n        \"dtype\": \"number\",\n        \"std\": 14,\n        \"min\": 70,\n        \"max\": 162,\n        \"num_unique_values\": 53,\n        \"samples\": [\n          126,\n          85,\n          162\n        ],\n        \"semantic_type\": \"\",\n        \"description\": \"\"\n      }\n    },\n    {\n      \"column\": \"Total phenols\",\n      \"properties\": {\n        \"dtype\": \"number\",\n        \"std\": 0.6258510488339891,\n        \"min\": 0.98,\n        \"max\": 3.88,\n        \"num_unique_values\": 97,\n        \"samples\": [\n          1.68,\n          2.11,\n          1.35\n        ],\n        \"semantic_type\": \"\",\n        \"description\": \"\"\n      }\n    },\n    {\n      \"column\": \"Flavanoids\",\n      \"properties\": {\n        \"dtype\": \"number\",\n        \"std\": 0.9988586850169465,\n        \"min\": 0.34,\n        \"max\": 5.08,\n        \"num_unique_values\": 132,\n        \"samples\": [\n          3.18,\n          2.5,\n          3.17\n        ],\n        \"semantic_type\": \"\",\n        \"description\": \"\"\n      }\n    },\n    {\n      \"column\": \"Nonflavanoid phenols\",\n      \"properties\": {\n        \"dtype\": \"number\",\n        \"std\": 0.12445334029667939,\n        \"min\": 0.13,\n        \"max\": 0.66,\n        \"num_unique_values\": 39,\n        \"samples\": [\n          0.58,\n          0.41,\n          0.39\n        ],\n        \"semantic_type\": \"\",\n        \"description\": \"\"\n      }\n    },\n    {\n      \"column\": \"Proanthocyanins\",\n      \"properties\": {\n        \"dtype\": \"number\",\n        \"std\": 0.5723588626747611,\n        \"min\": 0.41,\n        \"max\": 3.58,\n        \"num_unique_values\": 101,\n        \"samples\": [\n          0.75,\n          1.77,\n          1.42\n        ],\n        \"semantic_type\": \"\",\n        \"description\": \"\"\n      }\n    },\n    {\n      \"column\": \"Color intensity\",\n      \"properties\": {\n        \"dtype\": \"number\",\n        \"std\": 2.318285871822413,\n        \"min\": 1.28,\n        \"max\": 13.0,\n        \"num_unique_values\": 132,\n        \"samples\": [\n          2.95,\n          3.3,\n          5.1\n        ],\n        \"semantic_type\": \"\",\n        \"description\": \"\"\n      }\n    },\n    {\n      \"column\": \"Hue\",\n      \"properties\": {\n        \"dtype\": \"number\",\n        \"std\": 0.22857156582982338,\n        \"min\": 0.48,\n        \"max\": 1.71,\n        \"num_unique_values\": 78,\n        \"samples\": [\n          1.22,\n          1.04,\n          1.45\n        ],\n        \"semantic_type\": \"\",\n        \"description\": \"\"\n      }\n    },\n    {\n      \"column\": \"OD280/OD315 of diluted wines\",\n      \"properties\": {\n        \"dtype\": \"number\",\n        \"std\": 0.7099904287650505,\n        \"min\": 1.27,\n        \"max\": 4.0,\n        \"num_unique_values\": 122,\n        \"samples\": [\n          4.0,\n          1.82,\n          1.59\n        ],\n        \"semantic_type\": \"\",\n        \"description\": \"\"\n      }\n    },\n    {\n      \"column\": \"Proline\",\n      \"properties\": {\n        \"dtype\": \"number\",\n        \"std\": 314,\n        \"min\": 278,\n        \"max\": 1680,\n        \"num_unique_values\": 121,\n        \"samples\": [\n          1375,\n          1270,\n          735\n        ],\n        \"semantic_type\": \"\",\n        \"description\": \"\"\n      }\n    }\n  ]\n}"
            }
          },
          "metadata": {},
          "execution_count": 3
        }
      ],
      "source": [
        "import pandas as pd\n",
        "\n",
        "df_wine = pd.read_csv('https://archive.ics.uci.edu/ml/'\n",
        "                      'machine-learning-databases/wine/wine.data',\n",
        "                      header=None)\n",
        "\n",
        "# UCI 머신 러닝 저장소에서 Wine 데이터셋을 다운로드할 수 없을 때\n",
        "# 다음 주석을 해제하고 로컬 경로에서 데이터셋을 적재하세요:\n",
        "\n",
        "# df_wine = pd.read_csv('wine.data', header=None)\n",
        "\n",
        "df_wine.columns = ['Class label', 'Alcohol', 'Malic acid', 'Ash',\n",
        "                   'Alcalinity of ash', 'Magnesium', 'Total phenols',\n",
        "                   'Flavanoids', 'Nonflavanoid phenols', 'Proanthocyanins',\n",
        "                   'Color intensity', 'Hue',\n",
        "                   'OD280/OD315 of diluted wines', 'Proline']\n",
        "\n",
        "df_wine.head()"
      ]
    },
    {
      "cell_type": "markdown",
      "metadata": {
        "id": "d1bnkLDTEjGt"
      },
      "source": [
        "70%는 훈련 세트로 30%는 테스트 세트로 나눕니다."
      ]
    },
    {
      "cell_type": "code",
      "execution_count": 4,
      "metadata": {
        "execution": {
          "iopub.execute_input": "2021-10-23T05:55:29.770202Z",
          "iopub.status.busy": "2021-10-23T05:55:29.769434Z",
          "iopub.status.idle": "2021-10-23T05:55:30.169388Z",
          "shell.execute_reply": "2021-10-23T05:55:30.168720Z"
        },
        "id": "EA5J2XWMEjGt"
      },
      "outputs": [],
      "source": [
        "from sklearn.model_selection import train_test_split\n",
        "\n",
        "X, y = df_wine.iloc[:, 1:].values, df_wine.iloc[:, 0].values\n",
        "\n",
        "X_train, X_test, y_train, y_test = \\\n",
        "    train_test_split(X, y, test_size=0.3,\n",
        "                     stratify=y,\n",
        "                     random_state=0)"
      ]
    },
    {
      "cell_type": "markdown",
      "metadata": {
        "id": "hMMoofvmEjGt"
      },
      "source": [
        "데이터를 표준화합니다."
      ]
    },
    {
      "cell_type": "code",
      "execution_count": 5,
      "metadata": {
        "execution": {
          "iopub.execute_input": "2021-10-23T05:55:30.175564Z",
          "iopub.status.busy": "2021-10-23T05:55:30.174871Z",
          "iopub.status.idle": "2021-10-23T05:55:30.178647Z",
          "shell.execute_reply": "2021-10-23T05:55:30.177919Z"
        },
        "id": "AqQpTbYaEjGt"
      },
      "outputs": [],
      "source": [
        "from sklearn.preprocessing import StandardScaler\n",
        "\n",
        "sc = StandardScaler()\n",
        "X_train_std = sc.fit_transform(X_train)\n",
        "X_test_std = sc.transform(X_test)"
      ]
    },
    {
      "cell_type": "markdown",
      "metadata": {
        "id": "edcNE-glEjGt"
      },
      "source": [
        "---\n",
        "\n",
        "**노트**\n",
        "\n",
        "`X_test_std = sc.fit_transform(X_test)` 대신에 `X_test_std = sc.transform(X_test)`를 사용했습니다. 이 경우에 테스트 데이터셋의 평균과 표준편차가 훈련 데이터셋과 매우 비슷하기 때문에 큰 차이가 없습니다. 하지만 3장에서 보았듯이 데이터를 변환할 때 훈련 데이터셋에서 학습한 파라미터를 재사용하는 것이 올바른 방법입니다. 테스트 데이터셋은 \"새로운 본 적 없는\" 데이터를 의미하기 때문입니다.\n",
        "\n",
        "초기에 `fit_transform(X_test)`를 사용했는데 이것은 모델 훈련에서 얻은 파라미터를 재사용하여 새로운 데이터를 표준화하지 않는 일반적인 실수입니다. 왜 이것이 문제가 되는지 간단한 예를 살펴 보겠습니다.\n",
        "\n",
        "훈련 데이터셋에 1개의 특성(\"길이\")을 가진 샘플 3개가 들어 있다고 가정해 보죠:\n",
        "\n",
        "- train_1: 10 cm -> class_2\n",
        "- train_2: 20 cm -> class_2\n",
        "- train_3: 30 cm -> class_1\n",
        "\n",
        "mean: 20, std.: 8.2\n",
        "\n",
        "표준화를 한 후에 변환된 특성 값은 다음과 같습니다:\n",
        "\n",
        "- train_std_1: -1.22 -> class_2\n",
        "- train_std_2: 0 -> class_2\n",
        "- train_std_3: 1.22 -> class_1\n",
        "\n",
        "그다음 표준화된 길이가 0.6보다 작은 샘플을 class_2로 분류한다고 가정해 보죠(그 외에는 class_1). 지금까지는 좋습니다. 이제 레이블이 없는 3개의 포인트를 분류한다고 가정해 보죠:\n",
        "\n",
        "- new_4: 5 cm -> class ?\n",
        "- new_5: 6 cm -> class ?\n",
        "- new_6: 7 cm -> class ?\n",
        "\n",
        "훈련 데이터셋에 있는 표준화되기 전의 \"길이\" 값과 비교해 보면 직관적으로 이 샘플들은 class_2로 보입니다. 하지만 훈련 데이터셋에서 했던 것처럼 평균과 표준편차를 다시 계산하여 표준화하면 아마도 분류기가 샘플 4번과 5번만 class_2로 분류할 것입니다.\n",
        "\n",
        "- new_std_4: -1.22 -> class 2\n",
        "- new_std_5: 0 -> class 2\n",
        "- new_std_6: 1.22 -> class 1\n",
        "\n",
        "하지만 훈련 데이터셋의 표준화에 사용했던 파라미터를 사용하면 다음과 같은 값을 얻습니다:\n",
        "\n",
        "- example5: -1.84 -> class 2\n",
        "- example6: -1.71 -> class 2\n",
        "- example7: -1.59 -> class 2\n",
        "\n",
        "5 cm, 6 cm, 7 cm는 훈련 데이터셋에 있는 어떤 것보다도 작습니다. 따라서 훈련 데이터셋을 표준화한 값보다도 훨씬 작은 값으로 표준화되어야 합니다.\n",
        "\n",
        "---"
      ]
    },
    {
      "cell_type": "markdown",
      "metadata": {
        "id": "cKUsKeCWEjGu"
      },
      "source": [
        "공분산 행렬의 고윳값 분해"
      ]
    },
    {
      "cell_type": "code",
      "execution_count": 6,
      "metadata": {
        "colab": {
          "base_uri": "https://localhost:8080/"
        },
        "execution": {
          "iopub.execute_input": "2021-10-23T05:55:30.184644Z",
          "iopub.status.busy": "2021-10-23T05:55:30.183924Z",
          "iopub.status.idle": "2021-10-23T05:55:30.189344Z",
          "shell.execute_reply": "2021-10-23T05:55:30.188641Z"
        },
        "id": "C1p8pEbVEjGu",
        "outputId": "a925ff10-ff1f-41dc-a2cc-ffbc3cc33564"
      },
      "outputs": [
        {
          "output_type": "stream",
          "name": "stdout",
          "text": [
            "\n",
            "고윳값 \n",
            "[4.84274532 2.41602459 1.54845825 0.96120438 0.84166161 0.6620634\n",
            " 0.51828472 0.34650377 0.3131368  0.10754642 0.21357215 0.15362835\n",
            " 0.1808613 ]\n"
          ]
        }
      ],
      "source": [
        "import numpy as np\n",
        "cov_mat = np.cov(X_train_std.T)\n",
        "eigen_vals, eigen_vecs = np.linalg.eig(cov_mat)\n",
        "\n",
        "print('\\n고윳값 \\n%s' % eigen_vals)"
      ]
    },
    {
      "cell_type": "markdown",
      "metadata": {
        "id": "sWQdxyAFEjGu"
      },
      "source": [
        "**노트**:\n",
        "\n",
        "위에서 [`numpy.linalg.eig`](http://docs.scipy.org/doc/numpy/reference/generated/numpy.linalg.eig.html) 함수를 사용해 대칭 공분산 행렬을 고윳값과 고유벡터로 분해했습니다.\n",
        "\n",
        "<pre>>>> eigen_vals, eigen_vecs = np.linalg.eig(cov_mat)</pre>\n",
        "\n",
        "이것이 잘못된 것은 아니지만 최적은 아닙니다. [에르미트(Hermetian) 행렬](https://en.wikipedia.org/wiki/Hermitian_matrix)를 위해서 설계된 [`numpy.linalg.eigh`](http://docs.scipy.org/doc/numpy/reference/generated/numpy.linalg.eigh.html)를 사용하는 것이 더 좋습니다. 이 함수는 항상 실수 고윳값을 반환합니다. 수치적으로 약간 덜 안정적인 `np.linalg.eig`는 비대칭 정방행렬을 분해할 수 있지만 어떤 경우에 복소수 고윳값을 반환할 수 있습니다."
      ]
    },
    {
      "cell_type": "markdown",
      "metadata": {
        "id": "v5uHAyy7EjGu"
      },
      "source": [
        "<br>"
      ]
    },
    {
      "cell_type": "markdown",
      "metadata": {
        "id": "6Ziezfe6EjGu"
      },
      "source": [
        "## 5.1.3 총분산과 설명된 분산"
      ]
    },
    {
      "cell_type": "code",
      "execution_count": 7,
      "metadata": {
        "execution": {
          "iopub.execute_input": "2021-10-23T05:55:30.195398Z",
          "iopub.status.busy": "2021-10-23T05:55:30.194539Z",
          "iopub.status.idle": "2021-10-23T05:55:30.197315Z",
          "shell.execute_reply": "2021-10-23T05:55:30.196587Z"
        },
        "id": "VrKFIi3ZEjGu"
      },
      "outputs": [],
      "source": [
        "tot = sum(eigen_vals)\n",
        "var_exp = [(i / tot) for i in sorted(eigen_vals, reverse=True)]\n",
        "cum_var_exp = np.cumsum(var_exp)"
      ]
    },
    {
      "cell_type": "code",
      "execution_count": null,
      "metadata": {
        "execution": {
          "iopub.execute_input": "2021-10-23T05:55:30.204262Z",
          "iopub.status.busy": "2021-10-23T05:55:30.203303Z",
          "iopub.status.idle": "2021-10-23T05:55:30.611363Z",
          "shell.execute_reply": "2021-10-23T05:55:30.611911Z"
        },
        "id": "iQmRwT46EjGu"
      },
      "outputs": [],
      "source": [
        "import matplotlib.pyplot as plt\n",
        "\n",
        "\n",
        "plt.bar(range(1, 14), var_exp, alpha=0.5, align='center',\n",
        "        label='Individual explained variance')\n",
        "plt.step(range(1, 14), cum_var_exp, where='mid',\n",
        "         label='Cumulative explained variance')\n",
        "plt.ylabel('Explained variance ratio')\n",
        "plt.xlabel('Principal component index')\n",
        "plt.legend(loc='best')\n",
        "plt.tight_layout()\n",
        "# plt.savefig('images/05_02.png', dpi=300)\n",
        "plt.show()"
      ]
    },
    {
      "cell_type": "markdown",
      "metadata": {
        "id": "-03gKjrPEjGv"
      },
      "source": [
        "<br>"
      ]
    },
    {
      "cell_type": "markdown",
      "metadata": {
        "id": "KWhLM7GoEjGv"
      },
      "source": [
        "## 5.1.4 특성 변환"
      ]
    },
    {
      "cell_type": "code",
      "execution_count": null,
      "metadata": {
        "execution": {
          "iopub.execute_input": "2021-10-23T05:55:30.619803Z",
          "iopub.status.busy": "2021-10-23T05:55:30.618811Z",
          "iopub.status.idle": "2021-10-23T05:55:30.622004Z",
          "shell.execute_reply": "2021-10-23T05:55:30.620902Z"
        },
        "id": "1F3O3rx-EjGv"
      },
      "outputs": [],
      "source": [
        "# (고윳값, 고유벡터) 튜플의 리스트를 만듭니다\n",
        "eigen_pairs = [(np.abs(eigen_vals[i]), eigen_vecs[:, i])\n",
        "               for i in range(len(eigen_vals))]\n",
        "\n",
        "# 높은 값에서 낮은 값으로 (고윳값, 고유벡터) 튜플을 정렬합니다\n",
        "eigen_pairs.sort(key=lambda k: k[0], reverse=True)"
      ]
    },
    {
      "cell_type": "code",
      "execution_count": null,
      "metadata": {
        "execution": {
          "iopub.execute_input": "2021-10-23T05:55:30.628402Z",
          "iopub.status.busy": "2021-10-23T05:55:30.627677Z",
          "iopub.status.idle": "2021-10-23T05:55:30.631055Z",
          "shell.execute_reply": "2021-10-23T05:55:30.630384Z"
        },
        "id": "bvcxCj6REjGv"
      },
      "outputs": [],
      "source": [
        "w = np.hstack((eigen_pairs[0][1][:, np.newaxis],\n",
        "               eigen_pairs[1][1][:, np.newaxis]))\n",
        "print('투영 행렬 W:\\n', w)"
      ]
    },
    {
      "cell_type": "markdown",
      "metadata": {
        "id": "tuaO_K8cEjGv"
      },
      "source": [
        "**노트:**\n",
        "\n",
        "사용하는 Numpy와 LAPACK 버전에 따라 행렬 W의 부호가 바뀔 수 있습니다. 이는 문제가 아닙니다. $v$가 행렬 $\\Sigma$의 고유벡터라면 다음을 얻을 수 있습니다.\n",
        "\n",
        "$$\\Sigma v = \\lambda v,$$\n",
        "\n",
        "여기에서 $\\lambda$는 고윳값입니다.\n",
        "\n",
        "$$\\Sigma \\cdot (-v) = -\\Sigma v = -\\lambda v = \\lambda \\cdot (-v).$$이기 때문에 $-v$도 동일한 고윳값을 가진 고유벡터입니다."
      ]
    },
    {
      "cell_type": "code",
      "execution_count": null,
      "metadata": {
        "execution": {
          "iopub.execute_input": "2021-10-23T05:55:30.636732Z",
          "iopub.status.busy": "2021-10-23T05:55:30.636062Z",
          "iopub.status.idle": "2021-10-23T05:55:30.640470Z",
          "shell.execute_reply": "2021-10-23T05:55:30.639549Z"
        },
        "id": "BvUbmNzoEjGv"
      },
      "outputs": [],
      "source": [
        "X_train_std[0].dot(w)"
      ]
    },
    {
      "cell_type": "code",
      "execution_count": null,
      "metadata": {
        "execution": {
          "iopub.execute_input": "2021-10-23T05:55:30.728896Z",
          "iopub.status.busy": "2021-10-23T05:55:30.728171Z",
          "iopub.status.idle": "2021-10-23T05:55:30.873997Z",
          "shell.execute_reply": "2021-10-23T05:55:30.874920Z"
        },
        "id": "KxFGjRojEjGw"
      },
      "outputs": [],
      "source": [
        "X_train_pca = X_train_std.dot(w)\n",
        "colors = ['r', 'b', 'g']\n",
        "markers = ['s', 'x', 'o']\n",
        "\n",
        "for l, c, m in zip(np.unique(y_train), colors, markers):\n",
        "    plt.scatter(X_train_pca[y_train == l, 0],\n",
        "                X_train_pca[y_train == l, 1],\n",
        "                c=c, label=l, marker=m)\n",
        "\n",
        "plt.xlabel('PC 1')\n",
        "plt.ylabel('PC 2')\n",
        "plt.legend(loc='lower left')\n",
        "plt.tight_layout()\n",
        "# plt.savefig('images/05_03.png', dpi=300)\n",
        "plt.show()"
      ]
    },
    {
      "cell_type": "markdown",
      "metadata": {
        "id": "5GFN87VuEjGw"
      },
      "source": [
        "<br>"
      ]
    },
    {
      "cell_type": "markdown",
      "metadata": {
        "id": "M_KY060EEjGw"
      },
      "source": [
        "## 5.1.5 사이킷런의 주성분 분석"
      ]
    },
    {
      "cell_type": "markdown",
      "metadata": {
        "id": "f5vqSfXIEjGw"
      },
      "source": [
        "**노트**\n",
        "\n",
        "이어지는 네 개의 셀은 책에 없는 내용입니다. 사이킷런에서 앞의 PCA 구현 결과를 재현하기 위해 추가했습니다:"
      ]
    },
    {
      "cell_type": "code",
      "execution_count": null,
      "metadata": {
        "execution": {
          "iopub.execute_input": "2021-10-23T05:55:30.883098Z",
          "iopub.status.busy": "2021-10-23T05:55:30.881755Z",
          "iopub.status.idle": "2021-10-23T05:55:30.908844Z",
          "shell.execute_reply": "2021-10-23T05:55:30.908035Z"
        },
        "id": "SrIDFuzvEjGw"
      },
      "outputs": [],
      "source": [
        "from sklearn.decomposition import PCA\n",
        "\n",
        "pca = PCA()\n",
        "X_train_pca = pca.fit_transform(X_train_std)\n",
        "pca.explained_variance_ratio_"
      ]
    },
    {
      "cell_type": "code",
      "execution_count": null,
      "metadata": {
        "execution": {
          "iopub.execute_input": "2021-10-23T05:55:30.946201Z",
          "iopub.status.busy": "2021-10-23T05:55:30.941740Z",
          "iopub.status.idle": "2021-10-23T05:55:31.092214Z",
          "shell.execute_reply": "2021-10-23T05:55:31.091400Z"
        },
        "id": "Bdlq_npKEjGw"
      },
      "outputs": [],
      "source": [
        "plt.bar(range(1, 14), pca.explained_variance_ratio_, alpha=0.5, align='center')\n",
        "plt.step(range(1, 14), np.cumsum(pca.explained_variance_ratio_), where='mid')\n",
        "plt.ylabel('Explained variance ratio')\n",
        "plt.xlabel('Principal components')\n",
        "\n",
        "plt.show()"
      ]
    },
    {
      "cell_type": "code",
      "execution_count": null,
      "metadata": {
        "execution": {
          "iopub.execute_input": "2021-10-23T05:55:31.100672Z",
          "iopub.status.busy": "2021-10-23T05:55:31.099825Z",
          "iopub.status.idle": "2021-10-23T05:55:31.104806Z",
          "shell.execute_reply": "2021-10-23T05:55:31.103857Z"
        },
        "id": "siTpt9sXEjGx"
      },
      "outputs": [],
      "source": [
        "pca = PCA(n_components=2)\n",
        "X_train_pca = pca.fit_transform(X_train_std)\n",
        "X_test_pca = pca.transform(X_test_std)"
      ]
    },
    {
      "cell_type": "code",
      "execution_count": null,
      "metadata": {
        "execution": {
          "iopub.execute_input": "2021-10-23T05:55:31.164901Z",
          "iopub.status.busy": "2021-10-23T05:55:31.154877Z",
          "iopub.status.idle": "2021-10-23T05:55:31.264136Z",
          "shell.execute_reply": "2021-10-23T05:55:31.263310Z"
        },
        "id": "xc8dWtb5EjGx"
      },
      "outputs": [],
      "source": [
        "plt.scatter(X_train_pca[:, 0], X_train_pca[:, 1])\n",
        "plt.xlabel('PC 1')\n",
        "plt.ylabel('PC 2')\n",
        "plt.show()"
      ]
    },
    {
      "cell_type": "code",
      "execution_count": null,
      "metadata": {
        "execution": {
          "iopub.execute_input": "2021-10-23T05:55:31.276907Z",
          "iopub.status.busy": "2021-10-23T05:55:31.276038Z",
          "iopub.status.idle": "2021-10-23T05:55:31.280568Z",
          "shell.execute_reply": "2021-10-23T05:55:31.279061Z"
        },
        "id": "audMeNXmEjGx"
      },
      "outputs": [],
      "source": [
        "from matplotlib.colors import ListedColormap\n",
        "\n",
        "def plot_decision_regions(X, y, classifier, resolution=0.02):\n",
        "\n",
        "    # 마커와 컬러맵을 준비합니다\n",
        "    markers = ('s', 'x', 'o', '^', 'v')\n",
        "    colors = ('red', 'blue', 'lightgreen', 'gray', 'cyan')\n",
        "    cmap = ListedColormap(colors[:len(np.unique(y))])\n",
        "\n",
        "    # 결정 경계를 그립니다\n",
        "    x1_min, x1_max = X[:, 0].min() - 1, X[:, 0].max() + 1\n",
        "    x2_min, x2_max = X[:, 1].min() - 1, X[:, 1].max() + 1\n",
        "    xx1, xx2 = np.meshgrid(np.arange(x1_min, x1_max, resolution),\n",
        "                           np.arange(x2_min, x2_max, resolution))\n",
        "    Z = classifier.predict(np.array([xx1.ravel(), xx2.ravel()]).T)\n",
        "    Z = Z.reshape(xx1.shape)\n",
        "    plt.contourf(xx1, xx2, Z, alpha=0.4, cmap=cmap)\n",
        "    plt.xlim(xx1.min(), xx1.max())\n",
        "    plt.ylim(xx2.min(), xx2.max())\n",
        "\n",
        "    # 클래스별로 샘플을 그립니다\n",
        "    for idx, cl in enumerate(np.unique(y)):\n",
        "        plt.scatter(x=X[y == cl, 0],\n",
        "                    y=X[y == cl, 1],\n",
        "                    alpha=0.6,\n",
        "                    color=cmap(idx),\n",
        "                    edgecolor=None if idx==1 else 'black',\n",
        "                    marker=markers[idx],\n",
        "                    label=cl)"
      ]
    },
    {
      "cell_type": "markdown",
      "metadata": {
        "id": "7beQNiiFEjGx"
      },
      "source": [
        "처음 두 개의 주성분을 사용하여 로지스틱 회귀 분류기를 훈련합니다."
      ]
    },
    {
      "cell_type": "code",
      "execution_count": null,
      "metadata": {
        "execution": {
          "iopub.execute_input": "2021-10-23T05:55:31.289418Z",
          "iopub.status.busy": "2021-10-23T05:55:31.287927Z",
          "iopub.status.idle": "2021-10-23T05:55:31.306778Z",
          "shell.execute_reply": "2021-10-23T05:55:31.305830Z"
        },
        "id": "3E1HW9RlEjGy"
      },
      "outputs": [],
      "source": [
        "from sklearn.linear_model import LogisticRegression\n",
        "\n",
        "pca = PCA(n_components=2)\n",
        "X_train_pca = pca.fit_transform(X_train_std)\n",
        "X_test_pca = pca.transform(X_test_std)\n",
        "\n",
        "lr = LogisticRegression(random_state=1)\n",
        "lr = lr.fit(X_train_pca, y_train)"
      ]
    },
    {
      "cell_type": "code",
      "execution_count": null,
      "metadata": {
        "execution": {
          "iopub.execute_input": "2021-10-23T05:55:31.314386Z",
          "iopub.status.busy": "2021-10-23T05:55:31.313626Z",
          "iopub.status.idle": "2021-10-23T05:55:31.637730Z",
          "shell.execute_reply": "2021-10-23T05:55:31.638352Z"
        },
        "id": "KljC04RyEjGy",
        "scrolled": true
      },
      "outputs": [],
      "source": [
        "plot_decision_regions(X_train_pca, y_train, classifier=lr)\n",
        "plt.xlabel('PC 1')\n",
        "plt.ylabel('PC 2')\n",
        "plt.legend(loc='lower left')\n",
        "plt.tight_layout()\n",
        "# plt.savefig('images/05_04.png', dpi=300)\n",
        "plt.show()"
      ]
    },
    {
      "cell_type": "code",
      "execution_count": null,
      "metadata": {
        "execution": {
          "iopub.execute_input": "2021-10-23T05:55:31.645785Z",
          "iopub.status.busy": "2021-10-23T05:55:31.644587Z",
          "iopub.status.idle": "2021-10-23T05:55:31.915219Z",
          "shell.execute_reply": "2021-10-23T05:55:31.916134Z"
        },
        "id": "Q190-SbDEjGy"
      },
      "outputs": [],
      "source": [
        "plot_decision_regions(X_test_pca, y_test, classifier=lr)\n",
        "plt.xlabel('PC 1')\n",
        "plt.ylabel('PC 2')\n",
        "plt.legend(loc='lower left')\n",
        "plt.tight_layout()\n",
        "# plt.savefig('images/05_05.png', dpi=300)\n",
        "plt.show()"
      ]
    },
    {
      "cell_type": "code",
      "execution_count": null,
      "metadata": {
        "execution": {
          "iopub.execute_input": "2021-10-23T05:55:31.924332Z",
          "iopub.status.busy": "2021-10-23T05:55:31.923574Z",
          "iopub.status.idle": "2021-10-23T05:55:31.928195Z",
          "shell.execute_reply": "2021-10-23T05:55:31.927426Z"
        },
        "id": "nYN0rAe2EjGy"
      },
      "outputs": [],
      "source": [
        "pca = PCA(n_components=None)\n",
        "X_train_pca = pca.fit_transform(X_train_std)\n",
        "pca.explained_variance_ratio_"
      ]
    },
    {
      "cell_type": "markdown",
      "metadata": {
        "id": "bwBzhFTHEjGy"
      },
      "source": [
        "`n_components`에 (0, 1) 사이 실수를 입력하면 설명된 분산의 비율을 나타냅니다. 이 비율을 달성하기 위해 필요한 주성분 개수를 선택합니다."
      ]
    },
    {
      "cell_type": "code",
      "execution_count": null,
      "metadata": {
        "execution": {
          "iopub.execute_input": "2021-10-23T05:55:31.934787Z",
          "iopub.status.busy": "2021-10-23T05:55:31.934096Z",
          "iopub.status.idle": "2021-10-23T05:55:31.937151Z",
          "shell.execute_reply": "2021-10-23T05:55:31.937632Z"
        },
        "id": "hAudlTvIEjGz"
      },
      "outputs": [],
      "source": [
        "pca = PCA(n_components=0.95)\n",
        "pca.fit(X_train_std)\n",
        "print('주성분 개수:', pca.n_components_)\n",
        "print('설명된 분산 비율:', np.sum(pca.explained_variance_ratio_))"
      ]
    },
    {
      "cell_type": "markdown",
      "metadata": {
        "id": "vVqwwK7TEjGz"
      },
      "source": [
        "`n_components='mle'`로 지정하면 토마스 민카(Thomas Minka)가 제안한 차원 선택 방식을 사용합니다(Minka, T. P. “Automatic choice of dimensionality for PCA”. In NIPS, pp. 598-604)."
      ]
    },
    {
      "cell_type": "code",
      "execution_count": null,
      "metadata": {
        "execution": {
          "iopub.execute_input": "2021-10-23T05:55:31.945593Z",
          "iopub.status.busy": "2021-10-23T05:55:31.944785Z",
          "iopub.status.idle": "2021-10-23T05:55:31.948514Z",
          "shell.execute_reply": "2021-10-23T05:55:31.947694Z"
        },
        "id": "aq0ejdBgEjGz"
      },
      "outputs": [],
      "source": [
        "pca = PCA(n_components='mle')\n",
        "pca.fit(X_train_std)\n",
        "print('주성분 개수:', pca.n_components_)\n",
        "print('설명된 분산 비율:', np.sum(pca.explained_variance_ratio_))"
      ]
    },
    {
      "cell_type": "markdown",
      "metadata": {
        "id": "6AKyi0DfEjGz"
      },
      "source": [
        "`PCA`의 가장 큰 제약 사항 중 하나는 배치로만 실행되기 때문에 대용량 데이터셋을 처리하려면 많은 메모리가 필요합니다. `IncrementalPCA`를 사용하면 데이터셋의 일부를 사용하여 반복적으로 훈련할 수 있습니다.\n",
        "\n",
        "`partial_fit()` 메서드는 네트워크나 로컬 파일 시스템으로부터 조금씩 데이터를 받아와 훈련할 수 있습니다. `fit()` 메서드는 `numpy.memmap`을 사용하여 로컬 파일로부터 데이터를 조금씩 읽어 올 수 있습니다. 한 번에 읽어 올 데이터 크기는 `IncrementalPCA` 클래스의 `batch_size`로 지정합니다. 기본값은 특성 개수의 5배입니다.\n",
        "\n",
        "`IncrementalPCA`의 `n_components` 매개변수는 정수 값만 입력할 수 있습니다. 다음은 `partial_fit()` 메서드를 사용하여 앞의 `PCA`로 찾은 주성분의 결과와 비교하는 간단한 예입니다."
      ]
    },
    {
      "cell_type": "code",
      "execution_count": null,
      "metadata": {
        "execution": {
          "iopub.execute_input": "2021-10-23T05:55:31.959001Z",
          "iopub.status.busy": "2021-10-23T05:55:31.958249Z",
          "iopub.status.idle": "2021-10-23T05:55:31.962449Z",
          "shell.execute_reply": "2021-10-23T05:55:31.961845Z"
        },
        "id": "1DcUF_ySEjGz"
      },
      "outputs": [],
      "source": [
        "from sklearn.decomposition import IncrementalPCA\n",
        "\n",
        "ipca = IncrementalPCA(n_components=9)\n",
        "for batch in range(len(X_train_std)//25+1):\n",
        "    X_batch = X_train_std[batch*25:(batch+1)*25]\n",
        "    ipca.partial_fit(X_batch)\n",
        "\n",
        "print('주성분 개수:', ipca.n_components_)\n",
        "print('설명된 분산 비율:', np.sum(ipca.explained_variance_ratio_))"
      ]
    },
    {
      "cell_type": "markdown",
      "metadata": {
        "id": "A75qiYlzEjGz"
      },
      "source": [
        "<br>"
      ]
    },
    {
      "cell_type": "markdown",
      "metadata": {
        "id": "vrV-l0OtEjG0"
      },
      "source": [
        "# 5.2 선형 판별 분석을 통한 지도방식의 데이터 압축"
      ]
    },
    {
      "cell_type": "markdown",
      "metadata": {
        "id": "rZ1yv2kdEjG0"
      },
      "source": [
        "## 5.2.1 주성분 분석 vs 선형 판별 분석"
      ]
    },
    {
      "cell_type": "code",
      "execution_count": null,
      "metadata": {
        "execution": {
          "iopub.execute_input": "2021-10-23T05:55:31.969437Z",
          "iopub.status.busy": "2021-10-23T05:55:31.968722Z",
          "iopub.status.idle": "2021-10-23T05:55:31.972530Z",
          "shell.execute_reply": "2021-10-23T05:55:31.971797Z"
        },
        "id": "BwDzcypZEjG0",
        "scrolled": true
      },
      "outputs": [],
      "source": [
        "Image(url='https://git.io/Jtsv8', width=400)"
      ]
    },
    {
      "cell_type": "markdown",
      "metadata": {
        "id": "dqNYW_1JEjG0"
      },
      "source": [
        "## 5.2.2 선형 판별 분석의 내부 동작 방식"
      ]
    },
    {
      "cell_type": "markdown",
      "metadata": {
        "id": "vf61UaXf29rd"
      },
      "source": [
        "1. 표준화 전처리\n",
        "2. 클래스별 평균 벡터\n",
        "3. 클래스 간 산포 행렬 $\\boldsymbol S_B$, 클래스 내 산포 행렬 $\\boldsymbol S_W$\n",
        "4. $\\boldsymbol S_W^{-1}\\boldsymbol S_B$ 행렬의 고윳값\n",
        "5. 고윳값을 내림차순 정렬\n",
        "6. 고윳값이 가장 큰 k개의 고유 벡터 선택\n",
        "7. 고유 벡터로 만든 변환 행렬로 데이터셋 투영"
      ]
    },
    {
      "cell_type": "markdown",
      "metadata": {
        "id": "73eS4jTgEjG0"
      },
      "source": [
        "<br>"
      ]
    },
    {
      "cell_type": "markdown",
      "metadata": {
        "id": "swEC9tzxEjG0"
      },
      "source": [
        "## 5.2.3 산포 행렬 계산"
      ]
    },
    {
      "cell_type": "markdown",
      "metadata": {
        "id": "v_bJB6JaEjG0"
      },
      "source": [
        "각 클래스에 대한 평균 벡터를 계산합니다:"
      ]
    },
    {
      "cell_type": "code",
      "execution_count": null,
      "metadata": {
        "execution": {
          "iopub.execute_input": "2021-10-23T05:55:31.980804Z",
          "iopub.status.busy": "2021-10-23T05:55:31.980127Z",
          "iopub.status.idle": "2021-10-23T05:55:31.984121Z",
          "shell.execute_reply": "2021-10-23T05:55:31.984579Z"
        },
        "id": "3LeJnkK_EjG0"
      },
      "outputs": [],
      "source": [
        "np.set_printoptions(precision=4)\n",
        "\n",
        "mean_vecs = []\n",
        "for label in range(1, 4):\n",
        "    mean_vecs.append(np.mean(X_train_std[y_train == label], axis=0))\n",
        "    print('MV %s: %s\\n' % (label, mean_vecs[label - 1]))"
      ]
    },
    {
      "cell_type": "markdown",
      "metadata": {
        "id": "c-nwJBF5EjG1"
      },
      "source": [
        "클래스 내 산포 행렬을 계산합니다:\n",
        "\n",
        "$\\boldsymbol S_W=\\sum_{i=1}^c \\boldsymbol S_i$\n",
        "\n",
        "$\\boldsymbol S_i=\\sum_{x\\in D_i}(\\boldsymbol x-\\boldsymbol m_i)^T(\\boldsymbol x-\\boldsymbol m_i)$"
      ]
    },
    {
      "cell_type": "code",
      "execution_count": null,
      "metadata": {
        "execution": {
          "iopub.execute_input": "2021-10-23T05:55:31.992949Z",
          "iopub.status.busy": "2021-10-23T05:55:31.992029Z",
          "iopub.status.idle": "2021-10-23T05:55:31.997162Z",
          "shell.execute_reply": "2021-10-23T05:55:31.996380Z"
        },
        "id": "TRb957tiEjG1",
        "scrolled": true
      },
      "outputs": [],
      "source": [
        "d = 13 # 특성의 수\n",
        "S_W = np.zeros((d, d))\n",
        "for label, mv in zip(range(1, 4), mean_vecs):\n",
        "    class_scatter = np.zeros((d, d))  # 각 클래스에 대한 산포 행렬\n",
        "    for row in X_train_std[y_train == label]:\n",
        "        row, mv = row.reshape(d, 1), mv.reshape(d, 1)  # 열 벡터를 만듭니다\n",
        "        class_scatter += (row - mv).dot((row - mv).T)\n",
        "    S_W += class_scatter                          # 클래스 산포 행렬을 더합니다\n",
        "\n",
        "print('클래스 내의 산포 행렬: %sx%s' % (S_W.shape[0], S_W.shape[1]))"
      ]
    },
    {
      "cell_type": "markdown",
      "metadata": {
        "id": "Dalrtl0AEjG1"
      },
      "source": [
        "클래스가 균일하게 분포되어 있지 않기 때문에 공분산 행렬을 사용하는 것이 더 낫습니다:"
      ]
    },
    {
      "cell_type": "code",
      "execution_count": null,
      "metadata": {
        "execution": {
          "iopub.execute_input": "2021-10-23T05:55:32.002902Z",
          "iopub.status.busy": "2021-10-23T05:55:32.002108Z",
          "iopub.status.idle": "2021-10-23T05:55:32.005311Z",
          "shell.execute_reply": "2021-10-23T05:55:32.005845Z"
        },
        "id": "2xb6G0WKEjG1",
        "scrolled": true
      },
      "outputs": [],
      "source": [
        "print('클래스 레이블 분포: %s'\n",
        "      % np.bincount(y_train)[1:])"
      ]
    },
    {
      "cell_type": "markdown",
      "metadata": {
        "id": "hkbEqkWl29re"
      },
      "source": [
        "$\\sum_i=\\dfrac{1}{n_i}\\boldsymbol S_i=\\dfrac{1}{n_i}\\sum_{x\\in D_i}(\\boldsymbol x-\\boldsymbol m_i)^T(\\boldsymbol x-\\boldsymbol m_i)$"
      ]
    },
    {
      "cell_type": "code",
      "execution_count": null,
      "metadata": {
        "execution": {
          "iopub.execute_input": "2021-10-23T05:55:32.013843Z",
          "iopub.status.busy": "2021-10-23T05:55:32.012713Z",
          "iopub.status.idle": "2021-10-23T05:55:32.017636Z",
          "shell.execute_reply": "2021-10-23T05:55:32.016860Z"
        },
        "id": "XWzi_qzwEjG1"
      },
      "outputs": [],
      "source": [
        "d = 13  # 특성의 수\n",
        "S_W = np.zeros((d, d))\n",
        "for label, mv in zip(range(1, 4), mean_vecs):\n",
        "    class_scatter = np.cov(X_train_std[y_train == label].T)\n",
        "    S_W += class_scatter\n",
        "print('스케일 조정된 클래스 내의 산포 행렬: %sx%s' %\n",
        "      (S_W.shape[0], S_W.shape[1]))"
      ]
    },
    {
      "cell_type": "markdown",
      "metadata": {
        "id": "7dBT2KJKEjG1"
      },
      "source": [
        "클래스 간 산포 행렬을 계산합니다:\n",
        "\n",
        "$\\boldsymbol S_B=\\sum_{i=1}^c n_i(\\boldsymbol m_i-\\boldsymbol m)^T(\\boldsymbol m_i-\\boldsymbol m)$"
      ]
    },
    {
      "cell_type": "code",
      "execution_count": null,
      "metadata": {
        "execution": {
          "iopub.execute_input": "2021-10-23T05:55:32.026837Z",
          "iopub.status.busy": "2021-10-23T05:55:32.025588Z",
          "iopub.status.idle": "2021-10-23T05:55:32.029158Z",
          "shell.execute_reply": "2021-10-23T05:55:32.029777Z"
        },
        "id": "xdPoDmAZEjG1"
      },
      "outputs": [],
      "source": [
        "mean_overall = np.mean(X_train_std, axis=0)\n",
        "mean_overall = mean_overall.reshape(d, 1)  # 열 벡터로 만들기\n",
        "d = 13  # 특성 개수\n",
        "S_B = np.zeros((d, d))\n",
        "for i, mean_vec in enumerate(mean_vecs):\n",
        "    n = X_train_std[y_train == i + 1, :].shape[0]\n",
        "    mean_vec = mean_vec.reshape(d, 1)  # 열 벡터로 만들기\n",
        "    S_B += n * (mean_vec - mean_overall).dot((mean_vec - mean_overall).T)\n",
        "\n",
        "print('클래스 간의 산포 행렬: %sx%s' % (S_B.shape[0], S_B.shape[1]))"
      ]
    },
    {
      "cell_type": "markdown",
      "metadata": {
        "id": "cCw6Yv1sEjG1"
      },
      "source": [
        "<br>"
      ]
    },
    {
      "cell_type": "markdown",
      "metadata": {
        "id": "M_7csaMHEjG2"
      },
      "source": [
        "## 5.2.4 새로운 특성 부분 공간을 위해 선형 판별 벡터 선택하기"
      ]
    },
    {
      "cell_type": "markdown",
      "metadata": {
        "id": "CDTcT3twEjG2"
      },
      "source": [
        "행렬 $\\boldsymbol S_W^{-1}\\boldsymbol S_B$의 일반적인 고윳값 분해 문제를 풉니다:"
      ]
    },
    {
      "cell_type": "code",
      "execution_count": null,
      "metadata": {
        "execution": {
          "iopub.execute_input": "2021-10-23T05:55:32.046564Z",
          "iopub.status.busy": "2021-10-23T05:55:32.045183Z",
          "iopub.status.idle": "2021-10-23T05:55:32.051551Z",
          "shell.execute_reply": "2021-10-23T05:55:32.052568Z"
        },
        "id": "jdm4jT5EEjG2"
      },
      "outputs": [],
      "source": [
        "eigen_vals, eigen_vecs = np.linalg.eig(np.linalg.inv(S_W).dot(S_B))"
      ]
    },
    {
      "cell_type": "markdown",
      "metadata": {
        "id": "2lJf-i8oEjG2"
      },
      "source": [
        "고윳값의 역순으로 고유 벡터를 정렬합니다(판별 벡터의 개수 = 클래스 개수 - 1):"
      ]
    },
    {
      "cell_type": "code",
      "execution_count": null,
      "metadata": {
        "execution": {
          "iopub.execute_input": "2021-10-23T05:55:32.064918Z",
          "iopub.status.busy": "2021-10-23T05:55:32.063321Z",
          "iopub.status.idle": "2021-10-23T05:55:32.074143Z",
          "shell.execute_reply": "2021-10-23T05:55:32.075028Z"
        },
        "id": "cFCra1wjEjG2"
      },
      "outputs": [],
      "source": [
        "# (고윳값, 고유벡터) 튜플의 리스트를 만듭니다.\n",
        "eigen_pairs = [(np.abs(eigen_vals[i]), eigen_vecs[:, i])\n",
        "               for i in range(len(eigen_vals))]\n",
        "\n",
        "# (고윳값, 고유벡터) 튜플을 큰 값에서 작은 값 순서대로 정렬합니다.\n",
        "eigen_pairs = sorted(eigen_pairs, key=lambda k: k[0], reverse=True)\n",
        "\n",
        "# 고윳값의 역순으로 올바르게 정렬되었는지 확인합니다.\n",
        "print('내림차순의 고윳값:\\n')\n",
        "for eigen_val in eigen_pairs:\n",
        "    print(eigen_val[0])"
      ]
    },
    {
      "cell_type": "code",
      "execution_count": null,
      "metadata": {
        "execution": {
          "iopub.execute_input": "2021-10-23T05:55:32.087753Z",
          "iopub.status.busy": "2021-10-23T05:55:32.086021Z",
          "iopub.status.idle": "2021-10-23T05:55:32.318933Z",
          "shell.execute_reply": "2021-10-23T05:55:32.319404Z"
        },
        "id": "QTBSkyVPEjG2"
      },
      "outputs": [],
      "source": [
        "tot = sum(eigen_vals.real)\n",
        "discr = [(i / tot) for i in sorted(eigen_vals.real, reverse=True)]\n",
        "cum_discr = np.cumsum(discr)\n",
        "\n",
        "plt.bar(range(1, 14), discr, alpha=0.5, align='center',\n",
        "        label='Individual \"discriminability\"')\n",
        "plt.step(range(1, 14), cum_discr, where='mid',\n",
        "         label='Cumulative \"discriminability\"')\n",
        "plt.ylabel('\"Discriminability\" ratio')\n",
        "plt.xlabel('Linear discriminants')\n",
        "plt.ylim([-0.1, 1.1])\n",
        "plt.legend(loc='best')\n",
        "plt.tight_layout()\n",
        "# plt.savefig('images/05_07.png', dpi=300)\n",
        "plt.show()"
      ]
    },
    {
      "cell_type": "markdown",
      "metadata": {
        "id": "Yh8la8xQ29rf"
      },
      "source": [
        "변환 행렬 $\\boldsymbol W$:"
      ]
    },
    {
      "cell_type": "code",
      "execution_count": null,
      "metadata": {
        "execution": {
          "iopub.execute_input": "2021-10-23T05:55:32.326617Z",
          "iopub.status.busy": "2021-10-23T05:55:32.325907Z",
          "iopub.status.idle": "2021-10-23T05:55:32.332190Z",
          "shell.execute_reply": "2021-10-23T05:55:32.331505Z"
        },
        "id": "KDxlXzVBEjG2"
      },
      "outputs": [],
      "source": [
        "w = np.hstack((eigen_pairs[0][1][:, np.newaxis].real,\n",
        "              eigen_pairs[1][1][:, np.newaxis].real))\n",
        "print('행렬 W:\\n', w)"
      ]
    },
    {
      "cell_type": "markdown",
      "metadata": {
        "id": "tu490rQsEjG3"
      },
      "source": [
        "<br>"
      ]
    },
    {
      "cell_type": "markdown",
      "metadata": {
        "id": "D21vo1QlEjG3"
      },
      "source": [
        "## 5.2.5 새로운 특성 공간으로 샘플 투영하기\n",
        "\n",
        "$\\boldsymbol X'=\\boldsymbol X \\boldsymbol W$"
      ]
    },
    {
      "cell_type": "code",
      "execution_count": null,
      "metadata": {
        "execution": {
          "iopub.execute_input": "2021-10-23T05:55:32.370486Z",
          "iopub.status.busy": "2021-10-23T05:55:32.366663Z",
          "iopub.status.idle": "2021-10-23T05:55:32.497666Z",
          "shell.execute_reply": "2021-10-23T05:55:32.498474Z"
        },
        "id": "8rtNnz74EjG3",
        "scrolled": true
      },
      "outputs": [],
      "source": [
        "X_train_lda = X_train_std.dot(w)\n",
        "colors = ['r', 'b', 'g']\n",
        "markers = ['s', 'x', 'o']\n",
        "\n",
        "for l, c, m in zip(np.unique(y_train), colors, markers):\n",
        "    plt.scatter(X_train_lda[y_train == l, 0],\n",
        "                X_train_lda[y_train == l, 1] * (-1),\n",
        "                c=c, label=l, marker=m)\n",
        "\n",
        "plt.xlabel('LD 1')\n",
        "plt.ylabel('LD 2')\n",
        "plt.legend(loc='lower right')\n",
        "plt.tight_layout()\n",
        "# plt.savefig('images/05_08.png', dpi=300)\n",
        "plt.show()"
      ]
    },
    {
      "cell_type": "markdown",
      "metadata": {
        "id": "15asQXTuEjG3"
      },
      "source": [
        "<br>"
      ]
    },
    {
      "cell_type": "markdown",
      "metadata": {
        "id": "2CbXbBQ7EjG3"
      },
      "source": [
        "## 5.2.6 사이킷런의 LDA"
      ]
    },
    {
      "cell_type": "code",
      "execution_count": null,
      "metadata": {
        "execution": {
          "iopub.execute_input": "2021-10-23T05:55:32.503861Z",
          "iopub.status.busy": "2021-10-23T05:55:32.502708Z",
          "iopub.status.idle": "2021-10-23T05:55:32.510923Z",
          "shell.execute_reply": "2021-10-23T05:55:32.512007Z"
        },
        "id": "gHB0KzvjEjG3"
      },
      "outputs": [],
      "source": [
        "from sklearn.discriminant_analysis import LinearDiscriminantAnalysis as LDA\n",
        "\n",
        "lda = LDA(n_components=2)\n",
        "X_train_lda = lda.fit_transform(X_train_std, y_train)"
      ]
    },
    {
      "cell_type": "code",
      "execution_count": null,
      "metadata": {
        "execution": {
          "iopub.execute_input": "2021-10-23T05:55:32.517407Z",
          "iopub.status.busy": "2021-10-23T05:55:32.516163Z",
          "iopub.status.idle": "2021-10-23T05:55:32.833697Z",
          "shell.execute_reply": "2021-10-23T05:55:32.833075Z"
        },
        "id": "ykehu9ocEjG3"
      },
      "outputs": [],
      "source": [
        "from sklearn.linear_model import LogisticRegression\n",
        "\n",
        "lr = LogisticRegression(random_state=1)\n",
        "lr = lr.fit(X_train_lda, y_train)\n",
        "\n",
        "plot_decision_regions(X_train_lda, y_train, classifier=lr)\n",
        "plt.xlabel('LD 1')\n",
        "plt.ylabel('LD 2')\n",
        "plt.legend(loc='lower left')\n",
        "plt.tight_layout()\n",
        "# plt.savefig('images/05_09.png', dpi=300)\n",
        "plt.show()"
      ]
    },
    {
      "cell_type": "code",
      "execution_count": null,
      "metadata": {
        "execution": {
          "iopub.execute_input": "2021-10-23T05:55:32.838491Z",
          "iopub.status.busy": "2021-10-23T05:55:32.837753Z",
          "iopub.status.idle": "2021-10-23T05:55:33.139738Z",
          "shell.execute_reply": "2021-10-23T05:55:33.138881Z"
        },
        "id": "2vpC6hmuEjG3"
      },
      "outputs": [],
      "source": [
        "X_test_lda = lda.transform(X_test_std)\n",
        "\n",
        "plot_decision_regions(X_test_lda, y_test, classifier=lr)\n",
        "plt.xlabel('LD 1')\n",
        "plt.ylabel('LD 2')\n",
        "plt.legend(loc='lower left')\n",
        "plt.tight_layout()\n",
        "# plt.savefig('images/05_10.png', dpi=300)\n",
        "plt.show()"
      ]
    },
    {
      "cell_type": "markdown",
      "metadata": {
        "id": "Y27NfOE6EjG4"
      },
      "source": [
        "사이킷런의 LDA 구현 방식"
      ]
    },
    {
      "cell_type": "code",
      "execution_count": null,
      "metadata": {
        "execution": {
          "iopub.execute_input": "2021-10-23T05:55:33.147353Z",
          "iopub.status.busy": "2021-10-23T05:55:33.146563Z",
          "iopub.status.idle": "2021-10-23T05:55:33.151217Z",
          "shell.execute_reply": "2021-10-23T05:55:33.150381Z"
        },
        "id": "LqX58-YBEjG4"
      },
      "outputs": [],
      "source": [
        "y_uniq, y_count = np.unique(y_train, return_counts=True)\n",
        "priors = y_count / X_train_std.shape[0]\n",
        "priors"
      ]
    },
    {
      "cell_type": "markdown",
      "metadata": {
        "id": "Au9anyYvEjG4"
      },
      "source": [
        "$m = \\sum_{i=1}^c \\frac{n_i}{n} m_i$\n",
        "\n",
        "$S_W = \\sum_{i=1}^c \\frac{n_i}{n} S_i = \\sum_{i=1}^c \\frac{n_i}{n} \\Sigma_i$"
      ]
    },
    {
      "cell_type": "code",
      "execution_count": null,
      "metadata": {
        "execution": {
          "iopub.execute_input": "2021-10-23T05:55:33.158180Z",
          "iopub.status.busy": "2021-10-23T05:55:33.157401Z",
          "iopub.status.idle": "2021-10-23T05:55:33.160279Z",
          "shell.execute_reply": "2021-10-23T05:55:33.160734Z"
        },
        "id": "3fmRyzDIEjG4"
      },
      "outputs": [],
      "source": [
        "s_w = np.zeros((X_train_std.shape[1], X_train_std.shape[1]))\n",
        "for i, label in enumerate(y_uniq):\n",
        "    # 1/(n-1)이 아니라 1/n로 나눈 공분산 행렬을 얻기 위해 bias=True로 지정합니다.\n",
        "    s_w += priors[i] * np.cov(X_train_std[y_train == label].T, bias=True)"
      ]
    },
    {
      "cell_type": "markdown",
      "metadata": {
        "id": "NXQShs0DEjG4"
      },
      "source": [
        "$ S_B = \\sum_{i=1}^{c}\\frac{n_i}{n}(m_i-m)(m_i-m)^T $"
      ]
    },
    {
      "cell_type": "code",
      "execution_count": null,
      "metadata": {
        "execution": {
          "iopub.execute_input": "2021-10-23T05:55:33.168192Z",
          "iopub.status.busy": "2021-10-23T05:55:33.163967Z",
          "iopub.status.idle": "2021-10-23T05:55:33.171374Z",
          "shell.execute_reply": "2021-10-23T05:55:33.172019Z"
        },
        "id": "PBu3Ajq5EjG4"
      },
      "outputs": [],
      "source": [
        "s_b = np.zeros((X_train_std.shape[1], X_train_std.shape[1]))\n",
        "for i, mean_vec in enumerate(mean_vecs):\n",
        "    n = X_train_std[y_train == i + 1].shape[0]\n",
        "    mean_vec = mean_vec.reshape(-1, 1)\n",
        "    s_b += priors[i] * (mean_vec - mean_overall).dot((mean_vec - mean_overall).T)"
      ]
    },
    {
      "cell_type": "code",
      "execution_count": null,
      "metadata": {
        "execution": {
          "iopub.execute_input": "2021-10-23T05:55:33.179070Z",
          "iopub.status.busy": "2021-10-23T05:55:33.178259Z",
          "iopub.status.idle": "2021-10-23T05:55:33.180927Z",
          "shell.execute_reply": "2021-10-23T05:55:33.181409Z"
        },
        "id": "De00twRIEjG4"
      },
      "outputs": [],
      "source": [
        "import scipy\n",
        "ei_val, ei_vec = scipy.linalg.eigh(s_b, s_w)\n",
        "ei_vec = ei_vec[:, np.argsort(ei_val)[::-1]]"
      ]
    },
    {
      "cell_type": "code",
      "execution_count": null,
      "metadata": {
        "execution": {
          "iopub.execute_input": "2021-10-23T05:55:33.189989Z",
          "iopub.status.busy": "2021-10-23T05:55:33.189015Z",
          "iopub.status.idle": "2021-10-23T05:55:33.201490Z",
          "shell.execute_reply": "2021-10-23T05:55:33.202322Z"
        },
        "id": "515DAp_oEjG4"
      },
      "outputs": [],
      "source": [
        "lda_eigen = LDA(solver='eigen')\n",
        "lda_eigen.fit(X_train_std, y_train)"
      ]
    },
    {
      "cell_type": "code",
      "execution_count": null,
      "metadata": {
        "execution": {
          "iopub.execute_input": "2021-10-23T05:55:33.211608Z",
          "iopub.status.busy": "2021-10-23T05:55:33.210706Z",
          "iopub.status.idle": "2021-10-23T05:55:33.216924Z",
          "shell.execute_reply": "2021-10-23T05:55:33.215634Z"
        },
        "id": "Wdo7kBhhEjG5"
      },
      "outputs": [],
      "source": [
        "# 클래스 내의 산포 행렬은 covariance_ 속성에 저장되어 있습니다.\n",
        "np.allclose(s_w, lda_eigen.covariance_)"
      ]
    },
    {
      "cell_type": "markdown",
      "metadata": {
        "id": "xXMXbCfA29rh"
      },
      "source": [
        "클래스 간 산포 행렬은 총 산포 행렬에서 클래스 내 산포 행렬을 빼서 구할 수 있다.\n",
        "\n",
        "$\\boldsymbol S_B = \\boldsymbol S_T - \\boldsymbol S_W$"
      ]
    },
    {
      "cell_type": "code",
      "execution_count": null,
      "metadata": {
        "execution": {
          "iopub.execute_input": "2021-10-23T05:55:33.227409Z",
          "iopub.status.busy": "2021-10-23T05:55:33.226396Z",
          "iopub.status.idle": "2021-10-23T05:55:33.232252Z",
          "shell.execute_reply": "2021-10-23T05:55:33.230693Z"
        },
        "id": "PFBAWEaQEjG5"
      },
      "outputs": [],
      "source": [
        "Sb = np.cov(X_train_std.T, bias=True) - lda_eigen.covariance_\n",
        "np.allclose(Sb, s_b)"
      ]
    },
    {
      "cell_type": "code",
      "execution_count": null,
      "metadata": {
        "execution": {
          "iopub.execute_input": "2021-10-23T05:55:33.241162Z",
          "iopub.status.busy": "2021-10-23T05:55:33.239636Z",
          "iopub.status.idle": "2021-10-23T05:55:33.245396Z",
          "shell.execute_reply": "2021-10-23T05:55:33.246246Z"
        },
        "id": "Kjks6O2NEjG5"
      },
      "outputs": [],
      "source": [
        "# 고유 벡터는 scalings_ 속성에 저장되어 있습니다.\n",
        "np.allclose(lda_eigen.scalings_[:, :2], ei_vec[:, :2])"
      ]
    },
    {
      "cell_type": "code",
      "execution_count": null,
      "metadata": {
        "execution": {
          "iopub.execute_input": "2021-10-23T05:55:33.255043Z",
          "iopub.status.busy": "2021-10-23T05:55:33.253662Z",
          "iopub.status.idle": "2021-10-23T05:55:33.260071Z",
          "shell.execute_reply": "2021-10-23T05:55:33.261507Z"
        },
        "id": "YQ_v9IPfEjG5"
      },
      "outputs": [],
      "source": [
        "np.allclose(lda_eigen.transform(X_test_std), np.dot(X_test_std, ei_vec[:, :2]))"
      ]
    },
    {
      "cell_type": "markdown",
      "metadata": {
        "id": "F12wsUaYEjG5"
      },
      "source": [
        "<br>"
      ]
    },
    {
      "cell_type": "markdown",
      "metadata": {
        "id": "QmdF0zmSEjG5"
      },
      "source": [
        "# 5.3 커널 PCA를 사용하여 비선형 매핑하기"
      ]
    },
    {
      "cell_type": "code",
      "execution_count": null,
      "metadata": {
        "execution": {
          "iopub.execute_input": "2021-10-23T05:55:33.270238Z",
          "iopub.status.busy": "2021-10-23T05:55:33.269483Z",
          "iopub.status.idle": "2021-10-23T05:55:33.278501Z",
          "shell.execute_reply": "2021-10-23T05:55:33.277726Z"
        },
        "id": "LeKVh3F0EjG5"
      },
      "outputs": [],
      "source": [
        "Image(url='https://git.io/JtsvB', width=500)"
      ]
    },
    {
      "cell_type": "markdown",
      "metadata": {
        "id": "bZKSwJLtEjG6"
      },
      "source": [
        "<br>"
      ]
    },
    {
      "cell_type": "markdown",
      "metadata": {
        "id": "Z8OlvQunEjG6"
      },
      "source": [
        "## 5.3.2 파이썬으로 커널 PCA 구현하기"
      ]
    },
    {
      "cell_type": "code",
      "execution_count": null,
      "metadata": {
        "execution": {
          "iopub.execute_input": "2021-10-23T05:55:33.291648Z",
          "iopub.status.busy": "2021-10-23T05:55:33.288546Z",
          "iopub.status.idle": "2021-10-23T05:55:33.294640Z",
          "shell.execute_reply": "2021-10-23T05:55:33.295264Z"
        },
        "id": "AWwSJwROEjG6"
      },
      "outputs": [],
      "source": [
        "from scipy.spatial.distance import pdist, squareform\n",
        "from scipy.linalg import eigh\n",
        "import numpy as np\n",
        "\n",
        "from distutils.version import LooseVersion as Version\n",
        "from scipy import __version__ as scipy_version\n",
        "\n",
        "# scipy 2.0.0에서 삭제될 예정이므로 대신 numpy.exp를 사용합니다.\n",
        "if scipy_version >= Version('1.4.1'):\n",
        "    from numpy import exp\n",
        "else:\n",
        "    from scipy import exp\n",
        "\n",
        "\n",
        "def rbf_kernel_pca(X, gamma, n_components):\n",
        "    \"\"\"\n",
        "    RBF 커널 PCA 구현\n",
        "\n",
        "    매개변수\n",
        "    ------------\n",
        "    X: {넘파이 ndarray}, shape = [n_samples, n_features]\n",
        "\n",
        "    gamma: float\n",
        "      RBF 커널 튜닝 매개변수\n",
        "\n",
        "    n_components: int\n",
        "      반환할 주성분 개수\n",
        "\n",
        "    반환값\n",
        "    ------------\n",
        "     X_pc: {넘파이 ndarray}, shape = [n_samples, k_features]\n",
        "       투영된 데이터셋\n",
        "\n",
        "    \"\"\"\n",
        "    # MxN 차원의 데이터셋에서 샘플 간의 유클리디안 거리의 제곱을 계산합니다.\n",
        "    sq_dists = pdist(X, 'sqeuclidean')\n",
        "\n",
        "    # 샘플 간의 거리를 정방 대칭 행렬로 변환합니다.\n",
        "    mat_sq_dists = squareform(sq_dists)\n",
        "\n",
        "    # 커널 행렬을 계산합니다.\n",
        "    K = exp(-gamma * mat_sq_dists)\n",
        "\n",
        "    # 커널 행렬을 중앙에 맞춥니다.\n",
        "    N = K.shape[0]\n",
        "    one_n = np.ones((N, N)) / N\n",
        "    K = K - one_n.dot(K) - K.dot(one_n) + one_n.dot(K).dot(one_n)\n",
        "\n",
        "    # 중앙에 맞춰진 커널 행렬의 고윳값과 고유벡터를 구합니다.\n",
        "    # scipy.linalg.eigh 함수는 오름차순으로 반환합니다.\n",
        "    eigvals, eigvecs = eigh(K)\n",
        "    eigvals, eigvecs = eigvals[::-1], eigvecs[:, ::-1]\n",
        "\n",
        "    # 최상위 k 개의 고유벡터를 선택합니다(결과값은 투영된 샘플입니다).\n",
        "    X_pc = np.column_stack([eigvecs[:, i]\n",
        "                            for i in range(n_components)])\n",
        "\n",
        "    return X_pc"
      ]
    },
    {
      "cell_type": "markdown",
      "metadata": {
        "id": "q5LH1FhQEjG6"
      },
      "source": [
        "<br>"
      ]
    },
    {
      "cell_type": "markdown",
      "metadata": {
        "id": "-7CDFufCEjG6"
      },
      "source": [
        "### 예제 1: 반달 모양 구분하기"
      ]
    },
    {
      "cell_type": "code",
      "execution_count": null,
      "metadata": {
        "execution": {
          "iopub.execute_input": "2021-10-23T05:55:33.305697Z",
          "iopub.status.busy": "2021-10-23T05:55:33.304207Z",
          "iopub.status.idle": "2021-10-23T05:55:33.579140Z",
          "shell.execute_reply": "2021-10-23T05:55:33.578488Z"
        },
        "id": "eK5WLaYkEjG6"
      },
      "outputs": [],
      "source": [
        "import matplotlib.pyplot as plt\n",
        "from sklearn.datasets import make_moons\n",
        "\n",
        "X, y = make_moons(n_samples=100, random_state=123)\n",
        "\n",
        "plt.scatter(X[y == 0, 0], X[y == 0, 1], color='red', marker='^', alpha=0.5)\n",
        "plt.scatter(X[y == 1, 0], X[y == 1, 1], color='blue', marker='o', alpha=0.5)\n",
        "\n",
        "plt.tight_layout()\n",
        "# plt.savefig('images/05_12.png', dpi=300)\n",
        "plt.show()"
      ]
    },
    {
      "cell_type": "code",
      "execution_count": null,
      "metadata": {
        "execution": {
          "iopub.execute_input": "2021-10-23T05:55:33.618864Z",
          "iopub.status.busy": "2021-10-23T05:55:33.604036Z",
          "iopub.status.idle": "2021-10-23T05:55:33.825153Z",
          "shell.execute_reply": "2021-10-23T05:55:33.824401Z"
        },
        "id": "3XUrxsG1EjG6"
      },
      "outputs": [],
      "source": [
        "from sklearn.decomposition import PCA\n",
        "\n",
        "scikit_pca = PCA(n_components=2)\n",
        "X_spca = scikit_pca.fit_transform(X)\n",
        "\n",
        "fig, ax = plt.subplots(nrows=1, ncols=2, figsize=(7, 3))\n",
        "\n",
        "ax[0].scatter(X_spca[y == 0, 0], X_spca[y == 0, 1],\n",
        "              color='red', marker='^', alpha=0.5)\n",
        "ax[0].scatter(X_spca[y == 1, 0], X_spca[y == 1, 1],\n",
        "              color='blue', marker='o', alpha=0.5)\n",
        "\n",
        "ax[1].scatter(X_spca[y == 0, 0], np.zeros((50, 1)) + 0.02,\n",
        "              color='red', marker='^', alpha=0.5)\n",
        "ax[1].scatter(X_spca[y == 1, 0], np.zeros((50, 1)) - 0.02,\n",
        "              color='blue', marker='o', alpha=0.5)\n",
        "\n",
        "ax[0].set_xlabel('PC1')\n",
        "ax[0].set_ylabel('PC2')\n",
        "ax[1].set_ylim([-1, 1])\n",
        "ax[1].set_yticks([])\n",
        "ax[1].set_xlabel('PC1')\n",
        "\n",
        "plt.tight_layout()\n",
        "# plt.savefig('images/05_13.png', dpi=300)\n",
        "plt.show()"
      ]
    },
    {
      "cell_type": "code",
      "execution_count": null,
      "metadata": {
        "execution": {
          "iopub.execute_input": "2021-10-23T05:55:33.846342Z",
          "iopub.status.busy": "2021-10-23T05:55:33.845036Z",
          "iopub.status.idle": "2021-10-23T05:55:34.170272Z",
          "shell.execute_reply": "2021-10-23T05:55:34.169538Z"
        },
        "id": "CKQnqpCuEjG6"
      },
      "outputs": [],
      "source": [
        "X_kpca = rbf_kernel_pca(X, gamma=15, n_components=2)\n",
        "\n",
        "fig, ax = plt.subplots(nrows=1, ncols=2, figsize=(7, 3))\n",
        "ax[0].scatter(X_kpca[y==0, 0], X_kpca[y==0, 1],\n",
        "            color='red', marker='^', alpha=0.5)\n",
        "ax[0].scatter(X_kpca[y==1, 0], X_kpca[y==1, 1],\n",
        "            color='blue', marker='o', alpha=0.5)\n",
        "\n",
        "ax[1].scatter(X_kpca[y==0, 0], np.zeros((50, 1))+0.02,\n",
        "            color='red', marker='^', alpha=0.5)\n",
        "ax[1].scatter(X_kpca[y==1, 0], np.zeros((50, 1))-0.02,\n",
        "            color='blue', marker='o', alpha=0.5)\n",
        "\n",
        "ax[0].set_xlabel('PC1')\n",
        "ax[0].set_ylabel('PC2')\n",
        "ax[1].set_ylim([-1, 1])\n",
        "ax[1].set_yticks([])\n",
        "ax[1].set_xlabel('PC1')\n",
        "\n",
        "plt.tight_layout()\n",
        "# plt.savefig('images/05_14.png', dpi=300)\n",
        "plt.show()"
      ]
    },
    {
      "cell_type": "markdown",
      "metadata": {
        "id": "MhgMuq_2EjG7"
      },
      "source": [
        "<br>"
      ]
    },
    {
      "cell_type": "markdown",
      "metadata": {
        "id": "EWhZCKfMEjG7"
      },
      "source": [
        "### 예제 2: 동심원 분리하기"
      ]
    },
    {
      "cell_type": "code",
      "execution_count": null,
      "metadata": {
        "execution": {
          "iopub.execute_input": "2021-10-23T05:55:34.204102Z",
          "iopub.status.busy": "2021-10-23T05:55:34.179005Z",
          "iopub.status.idle": "2021-10-23T05:55:34.361782Z",
          "shell.execute_reply": "2021-10-23T05:55:34.362406Z"
        },
        "id": "PHt9XURIEjG7"
      },
      "outputs": [],
      "source": [
        "from sklearn.datasets import make_circles\n",
        "\n",
        "X, y = make_circles(n_samples=1000, random_state=123, noise=0.1, factor=0.2)\n",
        "\n",
        "plt.scatter(X[y == 0, 0], X[y == 0, 1], color='red', marker='^', alpha=0.5)\n",
        "plt.scatter(X[y == 1, 0], X[y == 1, 1], color='blue', marker='o', alpha=0.5)\n",
        "\n",
        "plt.tight_layout()\n",
        "# plt.savefig('images/05_15.png', dpi=300)\n",
        "plt.show()"
      ]
    },
    {
      "cell_type": "code",
      "execution_count": null,
      "metadata": {
        "execution": {
          "iopub.execute_input": "2021-10-23T05:55:34.374986Z",
          "iopub.status.busy": "2021-10-23T05:55:34.373310Z",
          "iopub.status.idle": "2021-10-23T05:55:34.592865Z",
          "shell.execute_reply": "2021-10-23T05:55:34.593320Z"
        },
        "id": "vAzJy-ojEjG7"
      },
      "outputs": [],
      "source": [
        "scikit_pca = PCA(n_components=2)\n",
        "X_spca = scikit_pca.fit_transform(X)\n",
        "\n",
        "fig, ax = plt.subplots(nrows=1, ncols=2, figsize=(7, 3))\n",
        "\n",
        "ax[0].scatter(X_spca[y == 0, 0], X_spca[y == 0, 1],\n",
        "              color='red', marker='^', alpha=0.5)\n",
        "ax[0].scatter(X_spca[y == 1, 0], X_spca[y == 1, 1],\n",
        "              color='blue', marker='o', alpha=0.5)\n",
        "\n",
        "ax[1].scatter(X_spca[y == 0, 0], np.zeros((500, 1)) + 0.02,\n",
        "              color='red', marker='^', alpha=0.5)\n",
        "ax[1].scatter(X_spca[y == 1, 0], np.zeros((500, 1)) - 0.02,\n",
        "              color='blue', marker='o', alpha=0.5)\n",
        "\n",
        "ax[0].set_xlabel('PC1')\n",
        "ax[0].set_ylabel('PC2')\n",
        "ax[1].set_ylim([-1, 1])\n",
        "ax[1].set_yticks([])\n",
        "ax[1].set_xlabel('PC1')\n",
        "\n",
        "plt.tight_layout()\n",
        "# plt.savefig('images/05_16.png', dpi=300)\n",
        "plt.show()"
      ]
    },
    {
      "cell_type": "code",
      "execution_count": null,
      "metadata": {
        "execution": {
          "iopub.execute_input": "2021-10-23T05:55:34.602221Z",
          "iopub.status.busy": "2021-10-23T05:55:34.601414Z",
          "iopub.status.idle": "2021-10-23T05:55:35.270552Z",
          "shell.execute_reply": "2021-10-23T05:55:35.271118Z"
        },
        "id": "lnVjnP93EjG7"
      },
      "outputs": [],
      "source": [
        "X_kpca = rbf_kernel_pca(X, gamma=15, n_components=2)\n",
        "\n",
        "fig, ax = plt.subplots(nrows=1, ncols=2, figsize=(7, 3))\n",
        "ax[0].scatter(X_kpca[y == 0, 0], X_kpca[y == 0, 1],\n",
        "              color='red', marker='^', alpha=0.5)\n",
        "ax[0].scatter(X_kpca[y == 1, 0], X_kpca[y == 1, 1],\n",
        "              color='blue', marker='o', alpha=0.5)\n",
        "\n",
        "ax[1].scatter(X_kpca[y == 0, 0], np.zeros((500, 1)) + 0.02,\n",
        "              color='red', marker='^', alpha=0.5)\n",
        "ax[1].scatter(X_kpca[y == 1, 0], np.zeros((500, 1)) - 0.02,\n",
        "              color='blue', marker='o', alpha=0.5)\n",
        "\n",
        "ax[0].set_xlabel('PC1')\n",
        "ax[0].set_ylabel('PC2')\n",
        "ax[1].set_ylim([-1, 1])\n",
        "ax[1].set_yticks([])\n",
        "ax[1].set_xlabel('PC1')\n",
        "\n",
        "plt.tight_layout()\n",
        "# plt.savefig('images/05_17.png', dpi=300)\n",
        "plt.show()"
      ]
    },
    {
      "cell_type": "markdown",
      "metadata": {
        "id": "X7mOuyN_EjG7"
      },
      "source": [
        "<br>"
      ]
    },
    {
      "cell_type": "markdown",
      "metadata": {
        "id": "4-NJGCOhEjG7"
      },
      "source": [
        "## 5.3.3 새로운 데이터 포인트 투영하기"
      ]
    },
    {
      "cell_type": "code",
      "execution_count": null,
      "metadata": {
        "execution": {
          "iopub.execute_input": "2021-10-23T05:55:35.281007Z",
          "iopub.status.busy": "2021-10-23T05:55:35.280202Z",
          "iopub.status.idle": "2021-10-23T05:55:35.282915Z",
          "shell.execute_reply": "2021-10-23T05:55:35.283419Z"
        },
        "id": "I6mzj4vMEjG7"
      },
      "outputs": [],
      "source": [
        "from scipy.spatial.distance import pdist, squareform\n",
        "from numpy import exp\n",
        "from scipy.linalg import eigh\n",
        "import numpy as np\n",
        "\n",
        "def rbf_kernel_pca(X, gamma, n_components):\n",
        "    \"\"\"\n",
        "    RBF 커널 PCA 구현\n",
        "\n",
        "    매개변수\n",
        "    ------------\n",
        "    X: {넘파이 ndarray}, shape = [n_samples, n_features]\n",
        "\n",
        "    gamma: float\n",
        "      RBF 커널 튜닝 매개변수\n",
        "\n",
        "    n_components: int\n",
        "      반환할 주성분 개수\n",
        "\n",
        "    Returns\n",
        "    ------------\n",
        "     alphas: {넘파이 ndarray}, shape = [n_samples, k_features]\n",
        "       투영된 데이터셋\n",
        "\n",
        "     lambdas: list\n",
        "       고윳값\n",
        "\n",
        "    \"\"\"\n",
        "    # MxN 차원의 데이터셋에서 샘플 간의 유클리디안 거리의 제곱을 계산합니다.\n",
        "    sq_dists = pdist(X, 'sqeuclidean')\n",
        "\n",
        "    # 샘플 간의 거리를 정방 대칭 행렬로 변환합니다.\n",
        "    mat_sq_dists = squareform(sq_dists)\n",
        "\n",
        "    # 커널 행렬을 계산합니다.\n",
        "    K = exp(-gamma * mat_sq_dists)\n",
        "\n",
        "    # 커널 행렬을 중앙에 맞춥니다.\n",
        "    N = K.shape[0]\n",
        "    one_n = np.ones((N, N)) / N\n",
        "    K = K - one_n.dot(K) - K.dot(one_n) + one_n.dot(K).dot(one_n)\n",
        "\n",
        "    # 중앙에 맞춰진 커널 행렬의 고윳값과 고유 벡터를 구합니다.\n",
        "    # scipy.linalg.eigh 함수는 오름차순으로 반환합니다.\n",
        "    eigvals, eigvecs = eigh(K)\n",
        "    eigvals, eigvecs = eigvals[::-1], eigvecs[:, ::-1]\n",
        "\n",
        "    # 최상위 k 개의 고유 벡터를 선택합니다(투영 결과).\n",
        "    alphas = np.column_stack([eigvecs[:, i]\n",
        "                              for i in range(n_components)])\n",
        "\n",
        "    # 고유 벡터에 상응하는 고윳값을 선택합니다.\n",
        "    lambdas = [eigvals[i] for i in range(n_components)]\n",
        "\n",
        "    return alphas, lambdas"
      ]
    },
    {
      "cell_type": "code",
      "execution_count": null,
      "metadata": {
        "execution": {
          "iopub.execute_input": "2021-10-23T05:55:35.294416Z",
          "iopub.status.busy": "2021-10-23T05:55:35.290250Z",
          "iopub.status.idle": "2021-10-23T05:55:35.317555Z",
          "shell.execute_reply": "2021-10-23T05:55:35.315854Z"
        },
        "id": "BSuLhPTBEjG8"
      },
      "outputs": [],
      "source": [
        "X, y = make_moons(n_samples=100, random_state=123)\n",
        "alphas, lambdas = rbf_kernel_pca(X, gamma=15, n_components=1)"
      ]
    },
    {
      "cell_type": "code",
      "execution_count": null,
      "metadata": {
        "execution": {
          "iopub.execute_input": "2021-10-23T05:55:35.329412Z",
          "iopub.status.busy": "2021-10-23T05:55:35.327166Z",
          "iopub.status.idle": "2021-10-23T05:55:35.336760Z",
          "shell.execute_reply": "2021-10-23T05:55:35.334567Z"
        },
        "id": "-DYnonckEjG8"
      },
      "outputs": [],
      "source": [
        "x_new = X[25]\n",
        "x_new"
      ]
    },
    {
      "cell_type": "code",
      "execution_count": null,
      "metadata": {
        "execution": {
          "iopub.execute_input": "2021-10-23T05:55:35.345934Z",
          "iopub.status.busy": "2021-10-23T05:55:35.344707Z",
          "iopub.status.idle": "2021-10-23T05:55:35.351033Z",
          "shell.execute_reply": "2021-10-23T05:55:35.352106Z"
        },
        "id": "t2lcwezdEjG8"
      },
      "outputs": [],
      "source": [
        "x_proj = alphas[25] # 원본 투영\n",
        "x_proj"
      ]
    },
    {
      "cell_type": "code",
      "execution_count": null,
      "metadata": {
        "execution": {
          "iopub.execute_input": "2021-10-23T05:55:35.368945Z",
          "iopub.status.busy": "2021-10-23T05:55:35.366960Z",
          "iopub.status.idle": "2021-10-23T05:55:35.379713Z",
          "shell.execute_reply": "2021-10-23T05:55:35.374085Z"
        },
        "id": "K67SPqwPEjG8"
      },
      "outputs": [],
      "source": [
        "def project_x(x_new, X, gamma, alphas, lambdas):\n",
        "    pair_dist = np.array([np.sum((x_new - row)**2) for row in X])\n",
        "    k = np.exp(-gamma * pair_dist)\n",
        "    return k.dot(alphas / lambdas)\n",
        "\n",
        "# 새로운 데이터포인트를 투영합니다.\n",
        "x_reproj = project_x(x_new, X, gamma=15, alphas=alphas, lambdas=lambdas)\n",
        "x_reproj"
      ]
    },
    {
      "cell_type": "code",
      "execution_count": null,
      "metadata": {
        "execution": {
          "iopub.execute_input": "2021-10-23T05:55:35.395440Z",
          "iopub.status.busy": "2021-10-23T05:55:35.393348Z",
          "iopub.status.idle": "2021-10-23T05:55:35.559154Z",
          "shell.execute_reply": "2021-10-23T05:55:35.559650Z"
        },
        "id": "NqAizbQcEjG8"
      },
      "outputs": [],
      "source": [
        "plt.scatter(alphas[y == 0, 0], np.zeros((50)),\n",
        "            color='red', marker='^', alpha=0.5)\n",
        "plt.scatter(alphas[y == 1, 0], np.zeros((50)),\n",
        "            color='blue', marker='o', alpha=0.5)\n",
        "plt.scatter(x_proj, 0, color='black',\n",
        "            label='Original projection of point X[25]', marker='^', s=100)\n",
        "plt.scatter(x_reproj, 0, color='green',\n",
        "            label='Remapped point X[25]', marker='x', s=500)\n",
        "plt.yticks([], [])\n",
        "plt.legend(scatterpoints=1)\n",
        "\n",
        "plt.tight_layout()\n",
        "# plt.savefig('images/05_18.png', dpi=300)\n",
        "plt.show()"
      ]
    },
    {
      "cell_type": "markdown",
      "metadata": {
        "id": "kifU6Zl1EjG8"
      },
      "source": [
        "<br>"
      ]
    },
    {
      "cell_type": "markdown",
      "metadata": {
        "id": "QRFvGBFJEjG8"
      },
      "source": [
        "## 5.3.4 사이킷런의 커널 PCA"
      ]
    },
    {
      "cell_type": "code",
      "execution_count": null,
      "metadata": {
        "execution": {
          "iopub.execute_input": "2021-10-23T05:55:35.569746Z",
          "iopub.status.busy": "2021-10-23T05:55:35.568622Z",
          "iopub.status.idle": "2021-10-23T05:55:35.805594Z",
          "shell.execute_reply": "2021-10-23T05:55:35.806058Z"
        },
        "id": "9oStyswlEjG9"
      },
      "outputs": [],
      "source": [
        "from sklearn.decomposition import KernelPCA\n",
        "\n",
        "X, y = make_moons(n_samples=100, random_state=123)\n",
        "scikit_kpca = KernelPCA(n_components=2, kernel='rbf', gamma=15)\n",
        "X_skernpca = scikit_kpca.fit_transform(X)\n",
        "\n",
        "plt.scatter(X_skernpca[y == 0, 0], X_skernpca[y == 0, 1],\n",
        "            color='red', marker='^', alpha=0.5)\n",
        "plt.scatter(X_skernpca[y == 1, 0], X_skernpca[y == 1, 1],\n",
        "            color='blue', marker='o', alpha=0.5)\n",
        "\n",
        "plt.xlabel('PC1')\n",
        "plt.ylabel('PC2')\n",
        "plt.tight_layout()\n",
        "# plt.savefig('images/05_19.png', dpi=300)\n",
        "plt.show()"
      ]
    },
    {
      "cell_type": "markdown",
      "metadata": {
        "id": "0aHpcz4zEjG9"
      },
      "source": [
        "사이킷런의 매니폴드 알고리즘을 반달 모양 데이터셋과 동심원 데이터셋에 적용해 보겠습니다. 먼저 변환된 2차원 데이터셋을 그래프로 그리기 위한 간단한 함수를 정의합니다."
      ]
    },
    {
      "cell_type": "code",
      "execution_count": null,
      "metadata": {
        "execution": {
          "iopub.execute_input": "2021-10-23T05:55:35.812832Z",
          "iopub.status.busy": "2021-10-23T05:55:35.809522Z",
          "iopub.status.idle": "2021-10-23T05:55:35.815424Z",
          "shell.execute_reply": "2021-10-23T05:55:35.814770Z"
        },
        "id": "4siFOwEDEjG9"
      },
      "outputs": [],
      "source": [
        "def plot_manifold(X, y, savefig_name):\n",
        "\n",
        "    plt.scatter(X[y == 0, 0], X[y == 0, 1],\n",
        "                color='red', marker='^', alpha=0.5)\n",
        "    plt.scatter(X[y == 1, 0], X[y == 1, 1],\n",
        "                color='blue', marker='o', alpha=0.5)\n",
        "\n",
        "    plt.xlabel('PC1')\n",
        "    plt.ylabel('PC2')\n",
        "    plt.tight_layout()\n",
        "    # plt.savefig(savefig_name, dpi=300)\n",
        "    plt.show()"
      ]
    },
    {
      "cell_type": "markdown",
      "metadata": {
        "id": "DqzS7onvEjG9"
      },
      "source": [
        "지역 선형 임베딩(Locally Linear Embedding)은 이웃한 샘플 간의 거리를 유지하는 저차원 투영을 찾습니다. 지역 선형 임베딩을 구현한 사이킷런의 `LocallyLinearEmbedding` 클래스를 앞에서 적재한 반달 모양 데이터셋에 적용해 보겠습니다."
      ]
    },
    {
      "cell_type": "code",
      "execution_count": null,
      "metadata": {
        "execution": {
          "iopub.execute_input": "2021-10-23T05:55:35.823203Z",
          "iopub.status.busy": "2021-10-23T05:55:35.821880Z",
          "iopub.status.idle": "2021-10-23T05:55:36.042562Z",
          "shell.execute_reply": "2021-10-23T05:55:36.043038Z"
        },
        "id": "fbIHXIAsEjG9"
      },
      "outputs": [],
      "source": [
        "from sklearn.manifold import LocallyLinearEmbedding\n",
        "\n",
        "lle = LocallyLinearEmbedding(n_components=2, random_state=1)\n",
        "X_lle = lle.fit_transform(X)\n",
        "\n",
        "plot_manifold(X_lle, y, 'images/05_lle_moon.png')"
      ]
    },
    {
      "cell_type": "markdown",
      "metadata": {
        "id": "2pGF6ts1EjG9"
      },
      "source": [
        "t-SNE(t-distributed Stochastic Neighbor Embedding)는 데이터 포인트 간의 유사도를 결합 확률(joint probability)로 변환하고, 저차원과 고차원의 확률 사이에서 쿨백-라이블러(Kullback-Leibler) 발산을 최소화합니다. t-SNE는 특히 고차원 데이터셋을 시각화하는데 뛰어난 성능을 냅니다. 사이킷런에는 `TSNE` 클래스에 구현되어 있습니다."
      ]
    },
    {
      "cell_type": "code",
      "execution_count": null,
      "metadata": {
        "execution": {
          "iopub.execute_input": "2021-10-23T05:55:36.052171Z",
          "iopub.status.busy": "2021-10-23T05:55:36.048529Z",
          "iopub.status.idle": "2021-10-23T05:55:36.681559Z",
          "shell.execute_reply": "2021-10-23T05:55:36.680928Z"
        },
        "id": "pqZx-bjGEjG9"
      },
      "outputs": [],
      "source": [
        "from sklearn.manifold import TSNE\n",
        "\n",
        "tsne = TSNE(n_components=2, random_state=1)\n",
        "X_tsne = tsne.fit_transform(X)\n",
        "\n",
        "plot_manifold(X_tsne, y, 'images/05_tsne_moon.png')"
      ]
    },
    {
      "cell_type": "markdown",
      "metadata": {
        "id": "UtmSZYnKEjG9"
      },
      "source": [
        "위와 비슷한 방식으로 `KernelPCA`, `LocallyLinearEmbedding`, `TSNE`를 동심원 데이터셋에 적용해 보겠습니다."
      ]
    },
    {
      "cell_type": "code",
      "execution_count": null,
      "metadata": {
        "execution": {
          "iopub.execute_input": "2021-10-23T05:55:36.688774Z",
          "iopub.status.busy": "2021-10-23T05:55:36.687040Z",
          "iopub.status.idle": "2021-10-23T05:55:37.010873Z",
          "shell.execute_reply": "2021-10-23T05:55:37.011314Z"
        },
        "id": "iRCNOjo6EjG-",
        "scrolled": true
      },
      "outputs": [],
      "source": [
        "from sklearn.datasets import make_circles\n",
        "\n",
        "X, y = make_circles(n_samples=1000, random_state=123, noise=0.1, factor=0.2)\n",
        "\n",
        "scikit_kpca = KernelPCA(n_components=2, kernel='rbf', gamma=15)\n",
        "X_skernpca = scikit_kpca.fit_transform(X)\n",
        "\n",
        "plot_manifold(X_skernpca, y, 'images/05_kpca_circles.png')"
      ]
    },
    {
      "cell_type": "code",
      "execution_count": null,
      "metadata": {
        "execution": {
          "iopub.execute_input": "2021-10-23T05:55:37.015316Z",
          "iopub.status.busy": "2021-10-23T05:55:37.014510Z",
          "iopub.status.idle": "2021-10-23T05:55:37.381273Z",
          "shell.execute_reply": "2021-10-23T05:55:37.381723Z"
        },
        "id": "Awt6SJtlEjG-"
      },
      "outputs": [],
      "source": [
        "from sklearn.manifold import LocallyLinearEmbedding\n",
        "\n",
        "lle = LocallyLinearEmbedding(n_components=2, random_state=1)\n",
        "X_lle = lle.fit_transform(X)\n",
        "\n",
        "plot_manifold(X_lle, y, 'images/05_lle_circles.png')"
      ]
    },
    {
      "cell_type": "code",
      "execution_count": null,
      "metadata": {
        "execution": {
          "iopub.execute_input": "2021-10-23T05:55:37.390092Z",
          "iopub.status.busy": "2021-10-23T05:55:37.389230Z",
          "iopub.status.idle": "2021-10-23T05:55:40.151106Z",
          "shell.execute_reply": "2021-10-23T05:55:40.150117Z"
        },
        "id": "j2LjGy2nEjG-",
        "scrolled": true
      },
      "outputs": [],
      "source": [
        "from sklearn.manifold import TSNE\n",
        "\n",
        "tsne = TSNE(n_components=2, random_state=1)\n",
        "X_tsne = tsne.fit_transform(X)\n",
        "\n",
        "plot_manifold(X_tsne, y, 'images/05_tsne_circles.png')"
      ]
    }
  ],
  "metadata": {
    "anaconda-cloud": {},
    "colab": {
      "name": "ch05.ipynb",
      "provenance": []
    },
    "kernelspec": {
      "display_name": "Python 3",
      "language": "python",
      "name": "python3"
    },
    "language_info": {
      "codemirror_mode": {
        "name": "ipython",
        "version": 3
      },
      "file_extension": ".py",
      "mimetype": "text/x-python",
      "name": "python",
      "nbconvert_exporter": "python",
      "pygments_lexer": "ipython3",
      "version": "3.7.3"
    },
    "toc": {
      "nav_menu": {},
      "number_sections": true,
      "sideBar": true,
      "skip_h1_title": false,
      "title_cell": "Table of Contents",
      "title_sidebar": "Contents",
      "toc_cell": false,
      "toc_position": {},
      "toc_section_display": true,
      "toc_window_display": false
    }
  },
  "nbformat": 4,
  "nbformat_minor": 0
}